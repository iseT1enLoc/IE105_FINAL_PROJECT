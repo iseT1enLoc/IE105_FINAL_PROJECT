{
 "cells": [
  {
   "cell_type": "markdown",
   "metadata": {},
   "source": [
    "# **Import required library**\n"
   ]
  },
  {
   "cell_type": "code",
   "execution_count": 1,
   "metadata": {},
   "outputs": [],
   "source": [
    "import numpy as np\n",
    "import matplotlib.pyplot as plt\n",
    "import tensorflow as tf\n",
    "import pandas as pd\n",
    "from keras.models import Sequential\n",
    "from keras.layers import Dense\n"
   ]
  },
  {
   "cell_type": "markdown",
   "metadata": {},
   "source": [
    "# **Exploring the malware datasets**"
   ]
  },
  {
   "cell_type": "markdown",
   "metadata": {},
   "source": [
    "Malware dataset is collected on [Kaggle by this link](https://www.kaggle.com/datasets/amauricio/pe-files-malwares) :\n",
    "\n",
    "*   19611\n",
    "unique values\n",
    "*   6051 downloads and gain 135 downloads in the last 30 days"
   ]
  },
  {
   "cell_type": "code",
   "execution_count": 2,
   "metadata": {},
   "outputs": [],
   "source": [
    "#import neccessary packages\n",
    "import pandas as pd\n",
    "import matplotlib.pyplot as plt\n",
    "\n",
    "path = \".\\dataset\\dataset_malwares.csv\"\n",
    "df = pd.read_csv(path)\n"
   ]
  },
  {
   "cell_type": "code",
   "execution_count": 3,
   "metadata": {},
   "outputs": [
    {
     "name": "stdout",
     "output_type": "stream",
     "text": [
      "The shape of the dataset is: 19611 samples, 79 features\n"
     ]
    }
   ],
   "source": [
    "# Explore the shape of the dataset\n",
    "print(\"The shape of the dataset is: %d samples, %d features\" % (df.shape[0], df.shape[1]))"
   ]
  },
  {
   "cell_type": "code",
   "execution_count": 4,
   "metadata": {},
   "outputs": [
    {
     "data": {
      "text/html": [
       "<div>\n",
       "<style scoped>\n",
       "    .dataframe tbody tr th:only-of-type {\n",
       "        vertical-align: middle;\n",
       "    }\n",
       "\n",
       "    .dataframe tbody tr th {\n",
       "        vertical-align: top;\n",
       "    }\n",
       "\n",
       "    .dataframe thead th {\n",
       "        text-align: right;\n",
       "    }\n",
       "</style>\n",
       "<table border=\"1\" class=\"dataframe\">\n",
       "  <thead>\n",
       "    <tr style=\"text-align: right;\">\n",
       "      <th></th>\n",
       "      <th>e_magic</th>\n",
       "      <th>e_cblp</th>\n",
       "      <th>e_cp</th>\n",
       "      <th>e_crlc</th>\n",
       "      <th>e_cparhdr</th>\n",
       "      <th>e_minalloc</th>\n",
       "      <th>e_maxalloc</th>\n",
       "      <th>e_ss</th>\n",
       "      <th>e_sp</th>\n",
       "      <th>e_csum</th>\n",
       "      <th>...</th>\n",
       "      <th>SectionMaxChar</th>\n",
       "      <th>SectionMainChar</th>\n",
       "      <th>DirectoryEntryImport</th>\n",
       "      <th>DirectoryEntryImportSize</th>\n",
       "      <th>DirectoryEntryExport</th>\n",
       "      <th>ImageDirectoryEntryExport</th>\n",
       "      <th>ImageDirectoryEntryImport</th>\n",
       "      <th>ImageDirectoryEntryResource</th>\n",
       "      <th>ImageDirectoryEntryException</th>\n",
       "      <th>ImageDirectoryEntrySecurity</th>\n",
       "    </tr>\n",
       "  </thead>\n",
       "  <tbody>\n",
       "    <tr>\n",
       "      <th>count</th>\n",
       "      <td>19611.0</td>\n",
       "      <td>19611.000000</td>\n",
       "      <td>19611.000000</td>\n",
       "      <td>19611.000000</td>\n",
       "      <td>19611.000000</td>\n",
       "      <td>19611.000000</td>\n",
       "      <td>19611.000000</td>\n",
       "      <td>19611.000000</td>\n",
       "      <td>19611.00000</td>\n",
       "      <td>19611.000000</td>\n",
       "      <td>...</td>\n",
       "      <td>1.961100e+04</td>\n",
       "      <td>19611.0</td>\n",
       "      <td>19611.000000</td>\n",
       "      <td>19611.000000</td>\n",
       "      <td>19611.000000</td>\n",
       "      <td>1.961100e+04</td>\n",
       "      <td>1.961100e+04</td>\n",
       "      <td>1.961100e+04</td>\n",
       "      <td>1.961100e+04</td>\n",
       "      <td>1.961100e+04</td>\n",
       "    </tr>\n",
       "    <tr>\n",
       "      <th>mean</th>\n",
       "      <td>23117.0</td>\n",
       "      <td>178.615726</td>\n",
       "      <td>71.660752</td>\n",
       "      <td>49.146958</td>\n",
       "      <td>37.370710</td>\n",
       "      <td>37.032635</td>\n",
       "      <td>64178.739687</td>\n",
       "      <td>10.418490</td>\n",
       "      <td>226.46530</td>\n",
       "      <td>29.689103</td>\n",
       "      <td>...</td>\n",
       "      <td>3.163632e+09</td>\n",
       "      <td>0.0</td>\n",
       "      <td>6.112437</td>\n",
       "      <td>101.912804</td>\n",
       "      <td>14.131865</td>\n",
       "      <td>3.368566e+05</td>\n",
       "      <td>4.047213e+05</td>\n",
       "      <td>5.555810e+05</td>\n",
       "      <td>1.238834e+06</td>\n",
       "      <td>8.814868e+05</td>\n",
       "    </tr>\n",
       "    <tr>\n",
       "      <th>std</th>\n",
       "      <td>0.0</td>\n",
       "      <td>987.200729</td>\n",
       "      <td>1445.192977</td>\n",
       "      <td>1212.201919</td>\n",
       "      <td>864.515405</td>\n",
       "      <td>915.833139</td>\n",
       "      <td>9110.755873</td>\n",
       "      <td>637.116265</td>\n",
       "      <td>1249.68033</td>\n",
       "      <td>1015.303419</td>\n",
       "      <td>...</td>\n",
       "      <td>5.860332e+08</td>\n",
       "      <td>0.0</td>\n",
       "      <td>7.525158</td>\n",
       "      <td>127.076767</td>\n",
       "      <td>154.958102</td>\n",
       "      <td>2.181191e+07</td>\n",
       "      <td>4.704601e+06</td>\n",
       "      <td>6.772167e+06</td>\n",
       "      <td>5.868961e+07</td>\n",
       "      <td>2.167579e+07</td>\n",
       "    </tr>\n",
       "    <tr>\n",
       "      <th>min</th>\n",
       "      <td>23117.0</td>\n",
       "      <td>0.000000</td>\n",
       "      <td>0.000000</td>\n",
       "      <td>0.000000</td>\n",
       "      <td>0.000000</td>\n",
       "      <td>0.000000</td>\n",
       "      <td>0.000000</td>\n",
       "      <td>0.000000</td>\n",
       "      <td>0.00000</td>\n",
       "      <td>0.000000</td>\n",
       "      <td>...</td>\n",
       "      <td>1.073742e+09</td>\n",
       "      <td>0.0</td>\n",
       "      <td>0.000000</td>\n",
       "      <td>0.000000</td>\n",
       "      <td>0.000000</td>\n",
       "      <td>0.000000e+00</td>\n",
       "      <td>0.000000e+00</td>\n",
       "      <td>0.000000e+00</td>\n",
       "      <td>0.000000e+00</td>\n",
       "      <td>0.000000e+00</td>\n",
       "    </tr>\n",
       "    <tr>\n",
       "      <th>25%</th>\n",
       "      <td>23117.0</td>\n",
       "      <td>144.000000</td>\n",
       "      <td>3.000000</td>\n",
       "      <td>0.000000</td>\n",
       "      <td>4.000000</td>\n",
       "      <td>0.000000</td>\n",
       "      <td>65535.000000</td>\n",
       "      <td>0.000000</td>\n",
       "      <td>184.00000</td>\n",
       "      <td>0.000000</td>\n",
       "      <td>...</td>\n",
       "      <td>3.221226e+09</td>\n",
       "      <td>0.0</td>\n",
       "      <td>2.000000</td>\n",
       "      <td>17.000000</td>\n",
       "      <td>0.000000</td>\n",
       "      <td>0.000000e+00</td>\n",
       "      <td>2.960400e+04</td>\n",
       "      <td>4.096000e+04</td>\n",
       "      <td>0.000000e+00</td>\n",
       "      <td>0.000000e+00</td>\n",
       "    </tr>\n",
       "    <tr>\n",
       "      <th>50%</th>\n",
       "      <td>23117.0</td>\n",
       "      <td>144.000000</td>\n",
       "      <td>3.000000</td>\n",
       "      <td>0.000000</td>\n",
       "      <td>4.000000</td>\n",
       "      <td>0.000000</td>\n",
       "      <td>65535.000000</td>\n",
       "      <td>0.000000</td>\n",
       "      <td>184.00000</td>\n",
       "      <td>0.000000</td>\n",
       "      <td>...</td>\n",
       "      <td>3.221226e+09</td>\n",
       "      <td>0.0</td>\n",
       "      <td>4.000000</td>\n",
       "      <td>80.000000</td>\n",
       "      <td>0.000000</td>\n",
       "      <td>0.000000e+00</td>\n",
       "      <td>8.222400e+04</td>\n",
       "      <td>1.310720e+05</td>\n",
       "      <td>0.000000e+00</td>\n",
       "      <td>0.000000e+00</td>\n",
       "    </tr>\n",
       "    <tr>\n",
       "      <th>75%</th>\n",
       "      <td>23117.0</td>\n",
       "      <td>144.000000</td>\n",
       "      <td>3.000000</td>\n",
       "      <td>0.000000</td>\n",
       "      <td>4.000000</td>\n",
       "      <td>0.000000</td>\n",
       "      <td>65535.000000</td>\n",
       "      <td>0.000000</td>\n",
       "      <td>184.00000</td>\n",
       "      <td>0.000000</td>\n",
       "      <td>...</td>\n",
       "      <td>3.221226e+09</td>\n",
       "      <td>0.0</td>\n",
       "      <td>8.000000</td>\n",
       "      <td>135.000000</td>\n",
       "      <td>0.000000</td>\n",
       "      <td>0.000000e+00</td>\n",
       "      <td>2.477080e+05</td>\n",
       "      <td>3.870720e+05</td>\n",
       "      <td>0.000000e+00</td>\n",
       "      <td>3.184640e+05</td>\n",
       "    </tr>\n",
       "    <tr>\n",
       "      <th>max</th>\n",
       "      <td>23117.0</td>\n",
       "      <td>59448.000000</td>\n",
       "      <td>63200.000000</td>\n",
       "      <td>64613.000000</td>\n",
       "      <td>43690.000000</td>\n",
       "      <td>43690.000000</td>\n",
       "      <td>65535.000000</td>\n",
       "      <td>61436.000000</td>\n",
       "      <td>65464.00000</td>\n",
       "      <td>63262.000000</td>\n",
       "      <td>...</td>\n",
       "      <td>4.294967e+09</td>\n",
       "      <td>0.0</td>\n",
       "      <td>588.000000</td>\n",
       "      <td>4016.000000</td>\n",
       "      <td>7319.000000</td>\n",
       "      <td>2.147484e+09</td>\n",
       "      <td>5.368914e+08</td>\n",
       "      <td>8.304108e+08</td>\n",
       "      <td>2.906159e+09</td>\n",
       "      <td>2.415919e+09</td>\n",
       "    </tr>\n",
       "  </tbody>\n",
       "</table>\n",
       "<p>8 rows × 78 columns</p>\n",
       "</div>"
      ],
      "text/plain": [
       "       e_magic        e_cblp          e_cp        e_crlc     e_cparhdr  \\\n",
       "count  19611.0  19611.000000  19611.000000  19611.000000  19611.000000   \n",
       "mean   23117.0    178.615726     71.660752     49.146958     37.370710   \n",
       "std        0.0    987.200729   1445.192977   1212.201919    864.515405   \n",
       "min    23117.0      0.000000      0.000000      0.000000      0.000000   \n",
       "25%    23117.0    144.000000      3.000000      0.000000      4.000000   \n",
       "50%    23117.0    144.000000      3.000000      0.000000      4.000000   \n",
       "75%    23117.0    144.000000      3.000000      0.000000      4.000000   \n",
       "max    23117.0  59448.000000  63200.000000  64613.000000  43690.000000   \n",
       "\n",
       "         e_minalloc    e_maxalloc          e_ss         e_sp        e_csum  \\\n",
       "count  19611.000000  19611.000000  19611.000000  19611.00000  19611.000000   \n",
       "mean      37.032635  64178.739687     10.418490    226.46530     29.689103   \n",
       "std      915.833139   9110.755873    637.116265   1249.68033   1015.303419   \n",
       "min        0.000000      0.000000      0.000000      0.00000      0.000000   \n",
       "25%        0.000000  65535.000000      0.000000    184.00000      0.000000   \n",
       "50%        0.000000  65535.000000      0.000000    184.00000      0.000000   \n",
       "75%        0.000000  65535.000000      0.000000    184.00000      0.000000   \n",
       "max    43690.000000  65535.000000  61436.000000  65464.00000  63262.000000   \n",
       "\n",
       "       ...  SectionMaxChar  SectionMainChar  DirectoryEntryImport  \\\n",
       "count  ...    1.961100e+04          19611.0          19611.000000   \n",
       "mean   ...    3.163632e+09              0.0              6.112437   \n",
       "std    ...    5.860332e+08              0.0              7.525158   \n",
       "min    ...    1.073742e+09              0.0              0.000000   \n",
       "25%    ...    3.221226e+09              0.0              2.000000   \n",
       "50%    ...    3.221226e+09              0.0              4.000000   \n",
       "75%    ...    3.221226e+09              0.0              8.000000   \n",
       "max    ...    4.294967e+09              0.0            588.000000   \n",
       "\n",
       "       DirectoryEntryImportSize  DirectoryEntryExport  \\\n",
       "count              19611.000000          19611.000000   \n",
       "mean                 101.912804             14.131865   \n",
       "std                  127.076767            154.958102   \n",
       "min                    0.000000              0.000000   \n",
       "25%                   17.000000              0.000000   \n",
       "50%                   80.000000              0.000000   \n",
       "75%                  135.000000              0.000000   \n",
       "max                 4016.000000           7319.000000   \n",
       "\n",
       "       ImageDirectoryEntryExport  ImageDirectoryEntryImport  \\\n",
       "count               1.961100e+04               1.961100e+04   \n",
       "mean                3.368566e+05               4.047213e+05   \n",
       "std                 2.181191e+07               4.704601e+06   \n",
       "min                 0.000000e+00               0.000000e+00   \n",
       "25%                 0.000000e+00               2.960400e+04   \n",
       "50%                 0.000000e+00               8.222400e+04   \n",
       "75%                 0.000000e+00               2.477080e+05   \n",
       "max                 2.147484e+09               5.368914e+08   \n",
       "\n",
       "       ImageDirectoryEntryResource  ImageDirectoryEntryException  \\\n",
       "count                 1.961100e+04                  1.961100e+04   \n",
       "mean                  5.555810e+05                  1.238834e+06   \n",
       "std                   6.772167e+06                  5.868961e+07   \n",
       "min                   0.000000e+00                  0.000000e+00   \n",
       "25%                   4.096000e+04                  0.000000e+00   \n",
       "50%                   1.310720e+05                  0.000000e+00   \n",
       "75%                   3.870720e+05                  0.000000e+00   \n",
       "max                   8.304108e+08                  2.906159e+09   \n",
       "\n",
       "       ImageDirectoryEntrySecurity  \n",
       "count                 1.961100e+04  \n",
       "mean                  8.814868e+05  \n",
       "std                   2.167579e+07  \n",
       "min                   0.000000e+00  \n",
       "25%                   0.000000e+00  \n",
       "50%                   0.000000e+00  \n",
       "75%                   3.184640e+05  \n",
       "max                   2.415919e+09  \n",
       "\n",
       "[8 rows x 78 columns]"
      ]
     },
     "execution_count": 4,
     "metadata": {},
     "output_type": "execute_result"
    }
   ],
   "source": [
    "df.describe()"
   ]
  },
  {
   "cell_type": "code",
   "execution_count": 6,
   "metadata": {},
   "outputs": [
    {
     "data": {
      "text/html": [
       "<div>\n",
       "<style scoped>\n",
       "    .dataframe tbody tr th:only-of-type {\n",
       "        vertical-align: middle;\n",
       "    }\n",
       "\n",
       "    .dataframe tbody tr th {\n",
       "        vertical-align: top;\n",
       "    }\n",
       "\n",
       "    .dataframe thead th {\n",
       "        text-align: right;\n",
       "    }\n",
       "</style>\n",
       "<table border=\"1\" class=\"dataframe\">\n",
       "  <thead>\n",
       "    <tr style=\"text-align: right;\">\n",
       "      <th></th>\n",
       "      <th>Name</th>\n",
       "      <th>e_magic</th>\n",
       "      <th>e_cblp</th>\n",
       "      <th>e_cp</th>\n",
       "      <th>e_crlc</th>\n",
       "      <th>e_cparhdr</th>\n",
       "      <th>e_minalloc</th>\n",
       "      <th>e_maxalloc</th>\n",
       "      <th>e_ss</th>\n",
       "      <th>e_sp</th>\n",
       "      <th>...</th>\n",
       "      <th>SectionMaxChar</th>\n",
       "      <th>SectionMainChar</th>\n",
       "      <th>DirectoryEntryImport</th>\n",
       "      <th>DirectoryEntryImportSize</th>\n",
       "      <th>DirectoryEntryExport</th>\n",
       "      <th>ImageDirectoryEntryExport</th>\n",
       "      <th>ImageDirectoryEntryImport</th>\n",
       "      <th>ImageDirectoryEntryResource</th>\n",
       "      <th>ImageDirectoryEntryException</th>\n",
       "      <th>ImageDirectoryEntrySecurity</th>\n",
       "    </tr>\n",
       "  </thead>\n",
       "  <tbody>\n",
       "    <tr>\n",
       "      <th>0</th>\n",
       "      <td>VirusShare_a878ba26000edaac5c98eff4432723b3</td>\n",
       "      <td>23117</td>\n",
       "      <td>144</td>\n",
       "      <td>3</td>\n",
       "      <td>0</td>\n",
       "      <td>4</td>\n",
       "      <td>0</td>\n",
       "      <td>65535</td>\n",
       "      <td>0</td>\n",
       "      <td>184</td>\n",
       "      <td>...</td>\n",
       "      <td>3758096608</td>\n",
       "      <td>0</td>\n",
       "      <td>7</td>\n",
       "      <td>152</td>\n",
       "      <td>0</td>\n",
       "      <td>0</td>\n",
       "      <td>54440</td>\n",
       "      <td>77824</td>\n",
       "      <td>73728</td>\n",
       "      <td>0</td>\n",
       "    </tr>\n",
       "    <tr>\n",
       "      <th>1</th>\n",
       "      <td>VirusShare_ef9130570fddc174b312b2047f5f4cf0</td>\n",
       "      <td>23117</td>\n",
       "      <td>144</td>\n",
       "      <td>3</td>\n",
       "      <td>0</td>\n",
       "      <td>4</td>\n",
       "      <td>0</td>\n",
       "      <td>65535</td>\n",
       "      <td>0</td>\n",
       "      <td>184</td>\n",
       "      <td>...</td>\n",
       "      <td>3791650880</td>\n",
       "      <td>0</td>\n",
       "      <td>16</td>\n",
       "      <td>311</td>\n",
       "      <td>0</td>\n",
       "      <td>0</td>\n",
       "      <td>262276</td>\n",
       "      <td>294912</td>\n",
       "      <td>0</td>\n",
       "      <td>346112</td>\n",
       "    </tr>\n",
       "    <tr>\n",
       "      <th>2</th>\n",
       "      <td>VirusShare_ef84cdeba22be72a69b198213dada81a</td>\n",
       "      <td>23117</td>\n",
       "      <td>144</td>\n",
       "      <td>3</td>\n",
       "      <td>0</td>\n",
       "      <td>4</td>\n",
       "      <td>0</td>\n",
       "      <td>65535</td>\n",
       "      <td>0</td>\n",
       "      <td>184</td>\n",
       "      <td>...</td>\n",
       "      <td>3221225536</td>\n",
       "      <td>0</td>\n",
       "      <td>6</td>\n",
       "      <td>176</td>\n",
       "      <td>0</td>\n",
       "      <td>0</td>\n",
       "      <td>36864</td>\n",
       "      <td>40960</td>\n",
       "      <td>0</td>\n",
       "      <td>0</td>\n",
       "    </tr>\n",
       "    <tr>\n",
       "      <th>3</th>\n",
       "      <td>VirusShare_6bf3608e60ebc16cbcff6ed5467d469e</td>\n",
       "      <td>23117</td>\n",
       "      <td>144</td>\n",
       "      <td>3</td>\n",
       "      <td>0</td>\n",
       "      <td>4</td>\n",
       "      <td>0</td>\n",
       "      <td>65535</td>\n",
       "      <td>0</td>\n",
       "      <td>184</td>\n",
       "      <td>...</td>\n",
       "      <td>3224371328</td>\n",
       "      <td>0</td>\n",
       "      <td>8</td>\n",
       "      <td>155</td>\n",
       "      <td>0</td>\n",
       "      <td>0</td>\n",
       "      <td>356352</td>\n",
       "      <td>1003520</td>\n",
       "      <td>0</td>\n",
       "      <td>14109472</td>\n",
       "    </tr>\n",
       "    <tr>\n",
       "      <th>4</th>\n",
       "      <td>VirusShare_2cc94d952b2efb13c7d6bbe0dd59d3fb</td>\n",
       "      <td>23117</td>\n",
       "      <td>144</td>\n",
       "      <td>3</td>\n",
       "      <td>0</td>\n",
       "      <td>4</td>\n",
       "      <td>0</td>\n",
       "      <td>65535</td>\n",
       "      <td>0</td>\n",
       "      <td>184</td>\n",
       "      <td>...</td>\n",
       "      <td>3227516992</td>\n",
       "      <td>0</td>\n",
       "      <td>2</td>\n",
       "      <td>43</td>\n",
       "      <td>0</td>\n",
       "      <td>0</td>\n",
       "      <td>61440</td>\n",
       "      <td>73728</td>\n",
       "      <td>0</td>\n",
       "      <td>90624</td>\n",
       "    </tr>\n",
       "  </tbody>\n",
       "</table>\n",
       "<p>5 rows × 79 columns</p>\n",
       "</div>"
      ],
      "text/plain": [
       "                                          Name  e_magic  e_cblp  e_cp  e_crlc  \\\n",
       "0  VirusShare_a878ba26000edaac5c98eff4432723b3    23117     144     3       0   \n",
       "1  VirusShare_ef9130570fddc174b312b2047f5f4cf0    23117     144     3       0   \n",
       "2  VirusShare_ef84cdeba22be72a69b198213dada81a    23117     144     3       0   \n",
       "3  VirusShare_6bf3608e60ebc16cbcff6ed5467d469e    23117     144     3       0   \n",
       "4  VirusShare_2cc94d952b2efb13c7d6bbe0dd59d3fb    23117     144     3       0   \n",
       "\n",
       "   e_cparhdr  e_minalloc  e_maxalloc  e_ss  e_sp  ...  SectionMaxChar  \\\n",
       "0          4           0       65535     0   184  ...      3758096608   \n",
       "1          4           0       65535     0   184  ...      3791650880   \n",
       "2          4           0       65535     0   184  ...      3221225536   \n",
       "3          4           0       65535     0   184  ...      3224371328   \n",
       "4          4           0       65535     0   184  ...      3227516992   \n",
       "\n",
       "   SectionMainChar  DirectoryEntryImport  DirectoryEntryImportSize  \\\n",
       "0                0                     7                       152   \n",
       "1                0                    16                       311   \n",
       "2                0                     6                       176   \n",
       "3                0                     8                       155   \n",
       "4                0                     2                        43   \n",
       "\n",
       "   DirectoryEntryExport  ImageDirectoryEntryExport  ImageDirectoryEntryImport  \\\n",
       "0                     0                          0                      54440   \n",
       "1                     0                          0                     262276   \n",
       "2                     0                          0                      36864   \n",
       "3                     0                          0                     356352   \n",
       "4                     0                          0                      61440   \n",
       "\n",
       "   ImageDirectoryEntryResource  ImageDirectoryEntryException  \\\n",
       "0                        77824                         73728   \n",
       "1                       294912                             0   \n",
       "2                        40960                             0   \n",
       "3                      1003520                             0   \n",
       "4                        73728                             0   \n",
       "\n",
       "   ImageDirectoryEntrySecurity  \n",
       "0                            0  \n",
       "1                       346112  \n",
       "2                            0  \n",
       "3                     14109472  \n",
       "4                        90624  \n",
       "\n",
       "[5 rows x 79 columns]"
      ]
     },
     "execution_count": 6,
     "metadata": {},
     "output_type": "execute_result"
    }
   ],
   "source": [
    "df.head()"
   ]
  },
  {
   "cell_type": "code",
   "execution_count": 5,
   "metadata": {},
   "outputs": [
    {
     "data": {
      "text/plain": [
       "Malware\n",
       "1    14599\n",
       "0     5012\n",
       "Name: count, dtype: int64"
      ]
     },
     "execution_count": 5,
     "metadata": {},
     "output_type": "execute_result"
    }
   ],
   "source": [
    "df[\"Malware\"].value_counts()"
   ]
  },
  {
   "cell_type": "code",
   "execution_count": 6,
   "metadata": {},
   "outputs": [
    {
     "data": {
      "image/png": "[encoded data removed]",
      "text/plain": [
       "<Figure size 640x480 with 1 Axes>"
      ]
     },
     "metadata": {},
     "output_type": "display_data"
    }
   ],
   "source": [
    "# Calculate counts of malware and non-malware\n",
    "malware_count = (df['Malware'] == 1).sum()  # Summing the 1s (which represent malware)\n",
    "non_malware_count = len(df) - malware_count  # Total count minus malware count\n",
    "\n",
    "# Bar chart\n",
    "categories = ['Non-Malware', 'Malware']\n",
    "counts = [non_malware_count, malware_count]\n",
    "\n",
    "plt.bar(categories, counts, color=['green', 'red'])\n",
    "plt.xlabel('File Type')\n",
    "plt.ylabel('Count')\n",
    "plt.title('Comparison of Malware and Non-Malware Files')\n",
    "plt.show()\n",
    "#after plotting the grapth we can see that the data is imbalanced it might cause some\n",
    "#problems to the model as well"
   ]
  },
  {
   "cell_type": "markdown",
   "metadata": {},
   "source": [
    "**DATA CLEANING**"
   ]
  },
  {
   "cell_type": "code",
   "execution_count": 7,
   "metadata": {},
   "outputs": [
    {
     "name": "stdout",
     "output_type": "stream",
     "text": [
      "The Name and Malware are remove successfully\n"
     ]
    }
   ],
   "source": [
    "y = df[\"Malware\"]\n",
    "x = df.drop(columns = [\"Malware\",\"Name\",\"LoaderFlags\"])\n",
    "print(\"The Name and Malware are remove successfully\")\n",
    "#left this part for further works later\n"
   ]
  },
  {
   "cell_type": "code",
   "execution_count": 8,
   "metadata": {},
   "outputs": [],
   "source": [
    "##just get columns from col 15\n",
    "x = x.iloc[:,14:]"
   ]
  },
  {
   "cell_type": "code",
   "execution_count": 11,
   "metadata": {},
   "outputs": [
    {
     "data": {
      "text/plain": [
       "e_oemid                           87\n",
       "e_oeminfo                         96\n",
       "e_lfanew                          63\n",
       "Machine                            4\n",
       "NumberOfSections                  29\n",
       "                                ... \n",
       "ImageDirectoryEntryExport       3280\n",
       "ImageDirectoryEntryImport       8997\n",
       "ImageDirectoryEntryResource      910\n",
       "ImageDirectoryEntryException     422\n",
       "ImageDirectoryEntrySecurity     3179\n",
       "Length: 62, dtype: int64"
      ]
     },
     "execution_count": 11,
     "metadata": {},
     "output_type": "execute_result"
    }
   ],
   "source": [
    "x[x.columns].nunique(axis = 0)"
   ]
  },
  {
   "cell_type": "markdown",
   "metadata": {},
   "source": [
    "# **Splitting the dataset into test set and train set**"
   ]
  },
  {
   "cell_type": "code",
   "execution_count": 9,
   "metadata": {},
   "outputs": [],
   "source": [
    "from sklearn.model_selection import train_test_split\n",
    "X_train, X_test, y_train, y_test = train_test_split(x,y,test_size = 0.2,random_state = 42)"
   ]
  },
  {
   "cell_type": "code",
   "execution_count": 10,
   "metadata": {},
   "outputs": [
    {
     "name": "stdout",
     "output_type": "stream",
     "text": [
      "The shape of training set is: 15688 samples, 62 features\n"
     ]
    }
   ],
   "source": [
    "# Information of training set\n",
    "print(\"The shape of training set is: %d samples, %d features\" % (X_train.shape[0], X_train.shape[1]))"
   ]
  },
  {
   "cell_type": "code",
   "execution_count": 11,
   "metadata": {},
   "outputs": [
    {
     "data": {
      "text/plain": [
       "Malware\n",
       "1    11671\n",
       "0     4017\n",
       "Name: count, dtype: int64"
      ]
     },
     "execution_count": 11,
     "metadata": {},
     "output_type": "execute_result"
    }
   ],
   "source": [
    "y_train.value_counts()"
   ]
  },
  {
   "cell_type": "code",
   "execution_count": 12,
   "metadata": {},
   "outputs": [
    {
     "data": {
      "text/plain": [
       "Malware\n",
       "1    2928\n",
       "0     995\n",
       "Name: count, dtype: int64"
      ]
     },
     "execution_count": 12,
     "metadata": {},
     "output_type": "execute_result"
    }
   ],
   "source": [
    "y_test.value_counts()"
   ]
  },
  {
   "cell_type": "code",
   "execution_count": 15,
   "metadata": {},
   "outputs": [
    {
     "data": {
      "text/plain": [
       "(3923, 62)"
      ]
     },
     "execution_count": 15,
     "metadata": {},
     "output_type": "execute_result"
    }
   ],
   "source": [
    "X_test.shape"
   ]
  },
  {
   "cell_type": "markdown",
   "metadata": {},
   "source": [
    "***Deal with imbalanced data***\n",
    "* Reference: [Deal with imbalanced data](https://towardsdatascience.com/how-to-deal-with-imbalanced-data-34ab7db9b100) "
   ]
  },
  {
   "cell_type": "code",
   "execution_count": 13,
   "metadata": {},
   "outputs": [],
   "source": [
    "# import necessary libs\n",
    "from sklearn.utils import resample"
   ]
  },
  {
   "cell_type": "code",
   "execution_count": 14,
   "metadata": {},
   "outputs": [
    {
     "data": {
      "text/plain": [
       "Malware\n",
       "1    4017\n",
       "0    4017\n",
       "Name: count, dtype: int64"
      ]
     },
     "execution_count": 14,
     "metadata": {},
     "output_type": "execute_result"
    }
   ],
   "source": [
    "# concatenate our training data back together\n",
    "df = pd.concat([X_train, y_train], axis=1)\n",
    "\n",
    "df_majority = df[df.Malware == 1]\n",
    "df_minority = df[df.Malware == 0]\n",
    "\n",
    " # Downsample majority class\n",
    "df_majority_downsampled = resample(df_majority, \n",
    "                                 replace=False,    # sample without replacement\n",
    "                                 n_samples=len(df_minority),  # to match minority class\n",
    "                                 random_state=1234) # reproducible results\n",
    " \n",
    "# Combine minority class with downsampled majority class\n",
    "df_downsampled = pd.concat([df_majority_downsampled, df_minority])\n",
    " \n",
    "# Display new class counts\n",
    "df_downsampled[\"Malware\"].value_counts()\n"
   ]
  },
  {
   "cell_type": "code",
   "execution_count": 15,
   "metadata": {},
   "outputs": [
    {
     "name": "stdout",
     "output_type": "stream",
     "text": [
      "The Malware are remove successfully\n"
     ]
    }
   ],
   "source": [
    "y_train_v1 = df_downsampled[\"Malware\"]\n",
    "x_train_v1 = df_downsampled.drop(columns = [\"Malware\"])\n",
    "print(\"The Malware are remove successfully\")\n",
    "\n",
    "#left this part for further works later"
   ]
  },
  {
   "cell_type": "code",
   "execution_count": 16,
   "metadata": {},
   "outputs": [
    {
     "data": {
      "text/plain": [
       "Malware\n",
       "1    4017\n",
       "0    4017\n",
       "Name: count, dtype: int64"
      ]
     },
     "execution_count": 16,
     "metadata": {},
     "output_type": "execute_result"
    }
   ],
   "source": [
    "y_train_v1.value_counts()"
   ]
  },
  {
   "cell_type": "markdown",
   "metadata": {},
   "source": [
    "***Features scaling***"
   ]
  },
  {
   "cell_type": "code",
   "execution_count": 55,
   "metadata": {},
   "outputs": [
    {
     "data": {
      "text/plain": [
       "' from sklearn.preprocessing import StandardScaler\\nsc = StandardScaler()\\nx_train_v1  = sc.fit_transform(x_train_v1)\\nX_test = sc.fit_transform(X_test) '"
      ]
     },
     "execution_count": 55,
     "metadata": {},
     "output_type": "execute_result"
    }
   ],
   "source": [
    "\"\"\" from sklearn.preprocessing import StandardScaler\n",
    "sc = StandardScaler()\n",
    "x_train_v1  = sc.fit_transform(x_train_v1)\n",
    "X_test = sc.fit_transform(X_test) \"\"\""
   ]
  },
  {
   "cell_type": "code",
   "execution_count": 17,
   "metadata": {},
   "outputs": [
    {
     "data": {
      "text/plain": [
       "(8034, 62)"
      ]
     },
     "execution_count": 17,
     "metadata": {},
     "output_type": "execute_result"
    }
   ],
   "source": [
    "x_train_v1.shape"
   ]
  },
  {
   "cell_type": "code",
   "execution_count": 57,
   "metadata": {},
   "outputs": [
    {
     "data": {
      "text/plain": [
       "(3923, 77)"
      ]
     },
     "execution_count": 57,
     "metadata": {},
     "output_type": "execute_result"
    }
   ],
   "source": [
    "X_test.shape"
   ]
  },
  {
   "cell_type": "markdown",
   "metadata": {},
   "source": [
    "# **Model**"
   ]
  },
  {
   "cell_type": "markdown",
   "metadata": {},
   "source": [
    "**Sequential model**"
   ]
  },
  {
   "cell_type": "code",
   "execution_count": 58,
   "metadata": {},
   "outputs": [
    {
     "name": "stderr",
     "output_type": "stream",
     "text": [
      "d:\\Federated_Learning\\venv\\Lib\\site-packages\\keras\\src\\layers\\core\\dense.py:88: UserWarning: Do not pass an `input_shape`/`input_dim` argument to a layer. When using Sequential models, prefer using an `Input(shape)` object as the first layer in the model instead.\n",
      "  super().__init__(activity_regularizer=activity_regularizer, **kwargs)\n"
     ]
    },
    {
     "name": "stdout",
     "output_type": "stream",
     "text": [
      "\u001b[1m252/252\u001b[0m \u001b[32m━━━━━━━━━━━━━━━━━━━━\u001b[0m\u001b[37m\u001b[0m \u001b[1m3s\u001b[0m 3ms/step - accuracy: 0.6556 - loss: 202861568.0000\n"
     ]
    },
    {
     "data": {
      "text/plain": [
       "<keras.src.callbacks.history.History at 0x2865e417290>"
      ]
     },
     "execution_count": 58,
     "metadata": {},
     "output_type": "execute_result"
    }
   ],
   "source": [
    "from keras.models import Sequential\n",
    "from keras.layers import Dense, Dropout\n",
    "from keras.optimizers import Adam\n",
    "\n",
    "model = Sequential()\n",
    "model.add(Dense(64, activation='relu', input_shape=(62,))) # Increase neurons\n",
    "model.add(Dense(64, activation='relu'))  # Add more layers\n",
    "model.add(Dropout(0.5))  # Regularization\n",
    "model.add(Dense(32, activation='relu'))  # Additional layer\n",
    "model.add(Dense(1, activation='sigmoid'))\n",
    "\n",
    "optimizer = Adam(learning_rate=0.001)  # Set learning rate directly\n",
    "model.compile(loss='binary_crossentropy',\n",
    "              optimizer=optimizer,\n",
    "              metrics=['accuracy'])\n",
    "model.fit(x_train_v1,y_train_v1)"
   ]
  },
  {
   "cell_type": "code",
   "execution_count": 59,
   "metadata": {},
   "outputs": [
    {
     "data": {
      "text/plain": [
       "[<KerasVariable shape=(62, 64), dtype=float32, path=sequential_15/dense_66/kernel>,\n",
       " <KerasVariable shape=(64,), dtype=float32, path=sequential_15/dense_66/bias>,\n",
       " <KerasVariable shape=(64, 64), dtype=float32, path=sequential_15/dense_67/kernel>,\n",
       " <KerasVariable shape=(64,), dtype=float32, path=sequential_15/dense_67/bias>,\n",
       " <KerasVariable shape=(64, 32), dtype=float32, path=sequential_15/dense_68/kernel>,\n",
       " <KerasVariable shape=(32,), dtype=float32, path=sequential_15/dense_68/bias>,\n",
       " <KerasVariable shape=(32, 1), dtype=float32, path=sequential_15/dense_69/kernel>,\n",
       " <KerasVariable shape=(1,), dtype=float32, path=sequential_15/dense_69/bias>]"
      ]
     },
     "execution_count": 59,
     "metadata": {},
     "output_type": "execute_result"
    }
   ],
   "source": [
    "model.weights"
   ]
  },
  {
   "cell_type": "markdown",
   "metadata": {},
   "source": [
    "***Sequential model Evaluation on test data***"
   ]
  },
  {
   "cell_type": "code",
   "execution_count": 35,
   "metadata": {},
   "outputs": [],
   "source": [
    "from sklearn.metrics import f1_score, accuracy_score, confusion_matrix"
   ]
  },
  {
   "cell_type": "code",
   "execution_count": 36,
   "metadata": {},
   "outputs": [
    {
     "data": {
      "text/html": [
       "<div>\n",
       "<style scoped>\n",
       "    .dataframe tbody tr th:only-of-type {\n",
       "        vertical-align: middle;\n",
       "    }\n",
       "\n",
       "    .dataframe tbody tr th {\n",
       "        vertical-align: top;\n",
       "    }\n",
       "\n",
       "    .dataframe thead th {\n",
       "        text-align: right;\n",
       "    }\n",
       "</style>\n",
       "<table border=\"1\" class=\"dataframe\">\n",
       "  <thead>\n",
       "    <tr style=\"text-align: right;\">\n",
       "      <th></th>\n",
       "      <th>e_oemid</th>\n",
       "      <th>e_oeminfo</th>\n",
       "      <th>e_lfanew</th>\n",
       "      <th>Machine</th>\n",
       "      <th>NumberOfSections</th>\n",
       "      <th>TimeDateStamp</th>\n",
       "      <th>PointerToSymbolTable</th>\n",
       "      <th>NumberOfSymbols</th>\n",
       "      <th>SizeOfOptionalHeader</th>\n",
       "      <th>Characteristics</th>\n",
       "      <th>...</th>\n",
       "      <th>SectionMaxChar</th>\n",
       "      <th>SectionMainChar</th>\n",
       "      <th>DirectoryEntryImport</th>\n",
       "      <th>DirectoryEntryImportSize</th>\n",
       "      <th>DirectoryEntryExport</th>\n",
       "      <th>ImageDirectoryEntryExport</th>\n",
       "      <th>ImageDirectoryEntryImport</th>\n",
       "      <th>ImageDirectoryEntryResource</th>\n",
       "      <th>ImageDirectoryEntryException</th>\n",
       "      <th>ImageDirectoryEntrySecurity</th>\n",
       "    </tr>\n",
       "  </thead>\n",
       "  <tbody>\n",
       "    <tr>\n",
       "      <th>16827</th>\n",
       "      <td>0</td>\n",
       "      <td>0</td>\n",
       "      <td>248</td>\n",
       "      <td>332</td>\n",
       "      <td>5</td>\n",
       "      <td>1377141589</td>\n",
       "      <td>0</td>\n",
       "      <td>0</td>\n",
       "      <td>224</td>\n",
       "      <td>8450</td>\n",
       "      <td>...</td>\n",
       "      <td>3221225536</td>\n",
       "      <td>0</td>\n",
       "      <td>11</td>\n",
       "      <td>154</td>\n",
       "      <td>8</td>\n",
       "      <td>117200</td>\n",
       "      <td>123540</td>\n",
       "      <td>131072</td>\n",
       "      <td>0</td>\n",
       "      <td>0</td>\n",
       "    </tr>\n",
       "    <tr>\n",
       "      <th>16248</th>\n",
       "      <td>0</td>\n",
       "      <td>0</td>\n",
       "      <td>232</td>\n",
       "      <td>34404</td>\n",
       "      <td>6</td>\n",
       "      <td>1377170550</td>\n",
       "      <td>0</td>\n",
       "      <td>0</td>\n",
       "      <td>240</td>\n",
       "      <td>8226</td>\n",
       "      <td>...</td>\n",
       "      <td>3221225536</td>\n",
       "      <td>0</td>\n",
       "      <td>11</td>\n",
       "      <td>138</td>\n",
       "      <td>2</td>\n",
       "      <td>93792</td>\n",
       "      <td>115880</td>\n",
       "      <td>122880</td>\n",
       "      <td>110592</td>\n",
       "      <td>0</td>\n",
       "    </tr>\n",
       "    <tr>\n",
       "      <th>7109</th>\n",
       "      <td>24393</td>\n",
       "      <td>33355</td>\n",
       "      <td>64</td>\n",
       "      <td>332</td>\n",
       "      <td>3</td>\n",
       "      <td>1252212396</td>\n",
       "      <td>0</td>\n",
       "      <td>0</td>\n",
       "      <td>224</td>\n",
       "      <td>259</td>\n",
       "      <td>...</td>\n",
       "      <td>3221225536</td>\n",
       "      <td>0</td>\n",
       "      <td>11</td>\n",
       "      <td>267</td>\n",
       "      <td>0</td>\n",
       "      <td>0</td>\n",
       "      <td>86500</td>\n",
       "      <td>200704</td>\n",
       "      <td>0</td>\n",
       "      <td>0</td>\n",
       "    </tr>\n",
       "    <tr>\n",
       "      <th>3971</th>\n",
       "      <td>0</td>\n",
       "      <td>0</td>\n",
       "      <td>128</td>\n",
       "      <td>332</td>\n",
       "      <td>3</td>\n",
       "      <td>1438758638</td>\n",
       "      <td>0</td>\n",
       "      <td>0</td>\n",
       "      <td>224</td>\n",
       "      <td>270</td>\n",
       "      <td>...</td>\n",
       "      <td>1610612768</td>\n",
       "      <td>0</td>\n",
       "      <td>1</td>\n",
       "      <td>1</td>\n",
       "      <td>0</td>\n",
       "      <td>0</td>\n",
       "      <td>225624</td>\n",
       "      <td>237568</td>\n",
       "      <td>0</td>\n",
       "      <td>0</td>\n",
       "    </tr>\n",
       "    <tr>\n",
       "      <th>7672</th>\n",
       "      <td>0</td>\n",
       "      <td>0</td>\n",
       "      <td>264</td>\n",
       "      <td>332</td>\n",
       "      <td>3</td>\n",
       "      <td>1338462587</td>\n",
       "      <td>0</td>\n",
       "      <td>0</td>\n",
       "      <td>224</td>\n",
       "      <td>259</td>\n",
       "      <td>...</td>\n",
       "      <td>3758096512</td>\n",
       "      <td>0</td>\n",
       "      <td>0</td>\n",
       "      <td>0</td>\n",
       "      <td>0</td>\n",
       "      <td>0</td>\n",
       "      <td>1801976</td>\n",
       "      <td>1449984</td>\n",
       "      <td>0</td>\n",
       "      <td>700032</td>\n",
       "    </tr>\n",
       "    <tr>\n",
       "      <th>...</th>\n",
       "      <td>...</td>\n",
       "      <td>...</td>\n",
       "      <td>...</td>\n",
       "      <td>...</td>\n",
       "      <td>...</td>\n",
       "      <td>...</td>\n",
       "      <td>...</td>\n",
       "      <td>...</td>\n",
       "      <td>...</td>\n",
       "      <td>...</td>\n",
       "      <td>...</td>\n",
       "      <td>...</td>\n",
       "      <td>...</td>\n",
       "      <td>...</td>\n",
       "      <td>...</td>\n",
       "      <td>...</td>\n",
       "      <td>...</td>\n",
       "      <td>...</td>\n",
       "      <td>...</td>\n",
       "      <td>...</td>\n",
       "      <td>...</td>\n",
       "    </tr>\n",
       "    <tr>\n",
       "      <th>9389</th>\n",
       "      <td>0</td>\n",
       "      <td>0</td>\n",
       "      <td>232</td>\n",
       "      <td>332</td>\n",
       "      <td>5</td>\n",
       "      <td>0</td>\n",
       "      <td>0</td>\n",
       "      <td>0</td>\n",
       "      <td>224</td>\n",
       "      <td>258</td>\n",
       "      <td>...</td>\n",
       "      <td>3758096480</td>\n",
       "      <td>0</td>\n",
       "      <td>6</td>\n",
       "      <td>96</td>\n",
       "      <td>0</td>\n",
       "      <td>0</td>\n",
       "      <td>5964</td>\n",
       "      <td>40960</td>\n",
       "      <td>0</td>\n",
       "      <td>0</td>\n",
       "    </tr>\n",
       "    <tr>\n",
       "      <th>8079</th>\n",
       "      <td>0</td>\n",
       "      <td>0</td>\n",
       "      <td>232</td>\n",
       "      <td>332</td>\n",
       "      <td>4</td>\n",
       "      <td>1076537403</td>\n",
       "      <td>0</td>\n",
       "      <td>0</td>\n",
       "      <td>224</td>\n",
       "      <td>271</td>\n",
       "      <td>...</td>\n",
       "      <td>3221225536</td>\n",
       "      <td>0</td>\n",
       "      <td>4</td>\n",
       "      <td>91</td>\n",
       "      <td>0</td>\n",
       "      <td>0</td>\n",
       "      <td>25876</td>\n",
       "      <td>45056</td>\n",
       "      <td>0</td>\n",
       "      <td>0</td>\n",
       "    </tr>\n",
       "    <tr>\n",
       "      <th>9226</th>\n",
       "      <td>0</td>\n",
       "      <td>0</td>\n",
       "      <td>240</td>\n",
       "      <td>332</td>\n",
       "      <td>6</td>\n",
       "      <td>1352244804</td>\n",
       "      <td>0</td>\n",
       "      <td>0</td>\n",
       "      <td>224</td>\n",
       "      <td>258</td>\n",
       "      <td>...</td>\n",
       "      <td>3221225536</td>\n",
       "      <td>0</td>\n",
       "      <td>1</td>\n",
       "      <td>67</td>\n",
       "      <td>0</td>\n",
       "      <td>0</td>\n",
       "      <td>79380</td>\n",
       "      <td>266240</td>\n",
       "      <td>0</td>\n",
       "      <td>0</td>\n",
       "    </tr>\n",
       "    <tr>\n",
       "      <th>3245</th>\n",
       "      <td>0</td>\n",
       "      <td>0</td>\n",
       "      <td>216</td>\n",
       "      <td>332</td>\n",
       "      <td>5</td>\n",
       "      <td>1260053452</td>\n",
       "      <td>0</td>\n",
       "      <td>0</td>\n",
       "      <td>224</td>\n",
       "      <td>271</td>\n",
       "      <td>...</td>\n",
       "      <td>3221225600</td>\n",
       "      <td>0</td>\n",
       "      <td>8</td>\n",
       "      <td>155</td>\n",
       "      <td>0</td>\n",
       "      <td>0</td>\n",
       "      <td>29872</td>\n",
       "      <td>225280</td>\n",
       "      <td>0</td>\n",
       "      <td>212072</td>\n",
       "    </tr>\n",
       "    <tr>\n",
       "      <th>7809</th>\n",
       "      <td>0</td>\n",
       "      <td>0</td>\n",
       "      <td>208</td>\n",
       "      <td>332</td>\n",
       "      <td>6</td>\n",
       "      <td>1330111183</td>\n",
       "      <td>0</td>\n",
       "      <td>0</td>\n",
       "      <td>224</td>\n",
       "      <td>258</td>\n",
       "      <td>...</td>\n",
       "      <td>3221225600</td>\n",
       "      <td>0</td>\n",
       "      <td>8</td>\n",
       "      <td>172</td>\n",
       "      <td>0</td>\n",
       "      <td>0</td>\n",
       "      <td>39732</td>\n",
       "      <td>5156864</td>\n",
       "      <td>0</td>\n",
       "      <td>0</td>\n",
       "    </tr>\n",
       "  </tbody>\n",
       "</table>\n",
       "<p>3923 rows × 62 columns</p>\n",
       "</div>"
      ],
      "text/plain": [
       "       e_oemid  e_oeminfo  e_lfanew  Machine  NumberOfSections  TimeDateStamp  \\\n",
       "16827        0          0       248      332                 5     1377141589   \n",
       "16248        0          0       232    34404                 6     1377170550   \n",
       "7109     24393      33355        64      332                 3     1252212396   \n",
       "3971         0          0       128      332                 3     1438758638   \n",
       "7672         0          0       264      332                 3     1338462587   \n",
       "...        ...        ...       ...      ...               ...            ...   \n",
       "9389         0          0       232      332                 5              0   \n",
       "8079         0          0       232      332                 4     1076537403   \n",
       "9226         0          0       240      332                 6     1352244804   \n",
       "3245         0          0       216      332                 5     1260053452   \n",
       "7809         0          0       208      332                 6     1330111183   \n",
       "\n",
       "       PointerToSymbolTable  NumberOfSymbols  SizeOfOptionalHeader  \\\n",
       "16827                     0                0                   224   \n",
       "16248                     0                0                   240   \n",
       "7109                      0                0                   224   \n",
       "3971                      0                0                   224   \n",
       "7672                      0                0                   224   \n",
       "...                     ...              ...                   ...   \n",
       "9389                      0                0                   224   \n",
       "8079                      0                0                   224   \n",
       "9226                      0                0                   224   \n",
       "3245                      0                0                   224   \n",
       "7809                      0                0                   224   \n",
       "\n",
       "       Characteristics  ...  SectionMaxChar  SectionMainChar  \\\n",
       "16827             8450  ...      3221225536                0   \n",
       "16248             8226  ...      3221225536                0   \n",
       "7109               259  ...      3221225536                0   \n",
       "3971               270  ...      1610612768                0   \n",
       "7672               259  ...      3758096512                0   \n",
       "...                ...  ...             ...              ...   \n",
       "9389               258  ...      3758096480                0   \n",
       "8079               271  ...      3221225536                0   \n",
       "9226               258  ...      3221225536                0   \n",
       "3245               271  ...      3221225600                0   \n",
       "7809               258  ...      3221225600                0   \n",
       "\n",
       "       DirectoryEntryImport  DirectoryEntryImportSize  DirectoryEntryExport  \\\n",
       "16827                    11                       154                     8   \n",
       "16248                    11                       138                     2   \n",
       "7109                     11                       267                     0   \n",
       "3971                      1                         1                     0   \n",
       "7672                      0                         0                     0   \n",
       "...                     ...                       ...                   ...   \n",
       "9389                      6                        96                     0   \n",
       "8079                      4                        91                     0   \n",
       "9226                      1                        67                     0   \n",
       "3245                      8                       155                     0   \n",
       "7809                      8                       172                     0   \n",
       "\n",
       "       ImageDirectoryEntryExport  ImageDirectoryEntryImport  \\\n",
       "16827                     117200                     123540   \n",
       "16248                      93792                     115880   \n",
       "7109                           0                      86500   \n",
       "3971                           0                     225624   \n",
       "7672                           0                    1801976   \n",
       "...                          ...                        ...   \n",
       "9389                           0                       5964   \n",
       "8079                           0                      25876   \n",
       "9226                           0                      79380   \n",
       "3245                           0                      29872   \n",
       "7809                           0                      39732   \n",
       "\n",
       "       ImageDirectoryEntryResource  ImageDirectoryEntryException  \\\n",
       "16827                       131072                             0   \n",
       "16248                       122880                        110592   \n",
       "7109                        200704                             0   \n",
       "3971                        237568                             0   \n",
       "7672                       1449984                             0   \n",
       "...                            ...                           ...   \n",
       "9389                         40960                             0   \n",
       "8079                         45056                             0   \n",
       "9226                        266240                             0   \n",
       "3245                        225280                             0   \n",
       "7809                       5156864                             0   \n",
       "\n",
       "       ImageDirectoryEntrySecurity  \n",
       "16827                            0  \n",
       "16248                            0  \n",
       "7109                             0  \n",
       "3971                             0  \n",
       "7672                        700032  \n",
       "...                            ...  \n",
       "9389                             0  \n",
       "8079                             0  \n",
       "9226                             0  \n",
       "3245                        212072  \n",
       "7809                             0  \n",
       "\n",
       "[3923 rows x 62 columns]"
      ]
     },
     "execution_count": 36,
     "metadata": {},
     "output_type": "execute_result"
    }
   ],
   "source": [
    "X_test"
   ]
  },
  {
   "cell_type": "code",
   "execution_count": 60,
   "metadata": {},
   "outputs": [
    {
     "name": "stdout",
     "output_type": "stream",
     "text": [
      "\u001b[1m123/123\u001b[0m \u001b[32m━━━━━━━━━━━━━━━━━━━━\u001b[0m\u001b[37m\u001b[0m \u001b[1m1s\u001b[0m 4ms/step\n"
     ]
    }
   ],
   "source": [
    "#prediction on x_test\n",
    "\n",
    "test_prediction = model.predict(X_test)\n"
   ]
  },
  {
   "cell_type": "code",
   "execution_count": 61,
   "metadata": {},
   "outputs": [
    {
     "name": "stdout",
     "output_type": "stream",
     "text": [
      "[[0.]\n",
      " [0.]\n",
      " [1.]\n",
      " ...\n",
      " [1.]\n",
      " [1.]\n",
      " [1.]]\n"
     ]
    }
   ],
   "source": [
    "print(test_prediction)"
   ]
  },
  {
   "cell_type": "code",
   "execution_count": 62,
   "metadata": {},
   "outputs": [
    {
     "data": {
      "text/plain": [
       "0.8809584501656895"
      ]
     },
     "execution_count": 62,
     "metadata": {},
     "output_type": "execute_result"
    }
   ],
   "source": [
    "accuracy_score(y_test,test_prediction)"
   ]
  },
  {
   "cell_type": "code",
   "execution_count": 63,
   "metadata": {},
   "outputs": [
    {
     "data": {
      "text/plain": [
       "0.9165922486158242"
      ]
     },
     "execution_count": 63,
     "metadata": {},
     "output_type": "execute_result"
    }
   ],
   "source": [
    "f1_score(y_test,test_prediction)"
   ]
  },
  {
   "cell_type": "code",
   "execution_count": 64,
   "metadata": {},
   "outputs": [
    {
     "name": "stdout",
     "output_type": "stream",
     "text": [
      "3923\n"
     ]
    }
   ],
   "source": [
    "print(len(X_test))"
   ]
  },
  {
   "cell_type": "markdown",
   "metadata": {},
   "source": [
    "***Confusion matrix-Sequential model***"
   ]
  },
  {
   "cell_type": "code",
   "execution_count": 65,
   "metadata": {},
   "outputs": [
    {
     "data": {
      "image/png": "[encoded data removed]",
      "text/plain": [
       "<Figure size 640x480 with 2 Axes>"
      ]
     },
     "metadata": {},
     "output_type": "display_data"
    }
   ],
   "source": [
    "import matplotlib.pyplot as plt\n",
    "from sklearn.metrics import ConfusionMatrixDisplay\n",
    "\n",
    "cm_display = ConfusionMatrixDisplay.from_predictions(\n",
    "   y_test, test_prediction)\n",
    "cm_display.ax_.set_title('Confusion Matrix')\n",
    "plt.show()"
   ]
  },
  {
   "cell_type": "code",
   "execution_count": 66,
   "metadata": {},
   "outputs": [
    {
     "name": "stdout",
     "output_type": "stream",
     "text": [
      "              precision    recall  f1-score      support\n",
      "0              0.710863  0.894472  0.792167   995.000000\n",
      "1              0.960689  0.876366  0.916592  2928.000000\n",
      "accuracy       0.880958  0.880958  0.880958     0.880958\n",
      "macro avg      0.835776  0.885419  0.854380  3923.000000\n",
      "weighted avg   0.897325  0.880958  0.885034  3923.000000\n"
     ]
    }
   ],
   "source": [
    "from sklearn.metrics import classification_report\n",
    "# Generate classification report\n",
    "report_dict = classification_report(y_test, test_prediction, output_dict=True)\n",
    "\n",
    "# Convert the dictionary to a DataFrame for better visualization\n",
    "report_df = pd.DataFrame(report_dict).transpose()\n",
    "\n",
    "# Display the classification report DataFrame\n",
    "print(report_df)"
   ]
  },
  {
   "cell_type": "markdown",
   "metadata": {},
   "source": [
    "***Save model***"
   ]
  },
  {
   "cell_type": "code",
   "execution_count": 69,
   "metadata": {},
   "outputs": [
    {
     "name": "stderr",
     "output_type": "stream",
     "text": [
      "WARNING:absl:You are saving your model as an HDF5 file via `model.save()` or `keras.saving.save_model(model)`. This file format is considered legacy. We recommend using instead the native Keras format, e.g. `model.save('my_model.keras')` or `keras.saving.save_model(model, 'my_model.keras')`. \n"
     ]
    }
   ],
   "source": [
    "from tensorflow.keras.models import Sequential\n",
    "\n",
    "# Assuming 'model' is your trained Sequential model\n",
    "model.save(\"save_5_model_of_resampling_data_downscale.h5\")\n"
   ]
  },
  {
   "cell_type": "code",
   "execution_count": 68,
   "metadata": {},
   "outputs": [],
   "source": [
    "data = pd.read_csv(\"D:\\Federated_Learning\\dataset\\ember_dataset.csv\")"
   ]
  },
  {
   "cell_type": "code",
   "execution_count": 34,
   "metadata": {},
   "outputs": [
    {
     "data": {
      "text/plain": [
       "(5210, 70)"
      ]
     },
     "execution_count": 34,
     "metadata": {},
     "output_type": "execute_result"
    }
   ],
   "source": [
    "data.shape"
   ]
  },
  {
   "cell_type": "code",
   "execution_count": 36,
   "metadata": {},
   "outputs": [
    {
     "data": {
      "text/plain": [
       "<bound method NDFrame.describe of       e_cblp  e_cp  e_cparhdr  e_maxalloc  e_sp  e_lfanew  NumberOfSections  \\\n",
       "0        144     3          4       65535   184       256                 4   \n",
       "1        144     3          4       65535   184       184                 4   \n",
       "2        144     3          4       65535   184       272                 5   \n",
       "3        144     3          4       65535   184       184                 1   \n",
       "4        144     3          4       65535   184       224                 5   \n",
       "...      ...   ...        ...         ...   ...       ...               ...   \n",
       "5205     144     3          4       65535   184       216                 5   \n",
       "5206      80     2          4       65535   184       256                 7   \n",
       "5207     144     3          4       65535   184       216                 5   \n",
       "5208     144     3          4       65535   184       248                 5   \n",
       "5209     144     3          4       65535   184       240                 4   \n",
       "\n",
       "      CreationYear  FH_char0  FH_char1  ...  sus_sections  non_sus_sections  \\\n",
       "0                1         0         1  ...             1                 3   \n",
       "1                1         0         1  ...             1                 3   \n",
       "2                1         0         1  ...             1                 4   \n",
       "3                1         0         1  ...             0                 1   \n",
       "4                1         0         1  ...             1                 4   \n",
       "...            ...       ...       ...  ...           ...               ...   \n",
       "5205             1         1         1  ...             0                 5   \n",
       "5206             1         0         1  ...             4                 3   \n",
       "5207             1         0         1  ...             2                 3   \n",
       "5208             1         1         1  ...             1                 4   \n",
       "5209             1         1         1  ...             0                 4   \n",
       "\n",
       "      packer  packer_type    E_text    E_data  filesize    E_file  fileinfo  \\\n",
       "0          0     NoPacker  6.603616  5.443362   1181520  6.627552         1   \n",
       "1          0     NoPacker  5.205926  2.123522      7680  5.318221         0   \n",
       "2          0     NoPacker  6.238000  3.380859     57872  6.507758         1   \n",
       "3          0     NoPacker  0.000000  0.000000     95616  4.575092         1   \n",
       "4          0     NoPacker  6.355626  0.702621     48128  5.545531         1   \n",
       "...      ...          ...       ...       ...       ...       ...       ...   \n",
       "5205       0     NoPacker  6.174602  3.155928    365568  7.546568         0   \n",
       "5206       0     NoPacker  0.000000  0.000000     98816  6.947195         0   \n",
       "5207       0     NoPacker  6.503422  3.790871    227328  7.823114         0   \n",
       "5208       0     NoPacker  6.115208  7.919091    271616  7.886012         0   \n",
       "5209       0     NoPacker  7.524554  7.779965    130560  7.345463         1   \n",
       "\n",
       "      class  \n",
       "0         0  \n",
       "1         0  \n",
       "2         0  \n",
       "3         0  \n",
       "4         0  \n",
       "...     ...  \n",
       "5205      1  \n",
       "5206      1  \n",
       "5207      1  \n",
       "5208      1  \n",
       "5209      1  \n",
       "\n",
       "[5210 rows x 70 columns]>"
      ]
     },
     "execution_count": 36,
     "metadata": {},
     "output_type": "execute_result"
    }
   ],
   "source": [
    "data.describe"
   ]
  }
 ],
 "metadata": {
  "kernelspec": {
   "display_name": "venv",
   "language": "python",
   "name": "python3"
  },
  "language_info": {
   "codemirror_mode": {
    "name": "ipython",
    "version": 3
   },
   "file_extension": ".py",
   "mimetype": "text/x-python",
   "name": "python",
   "nbconvert_exporter": "python",
   "pygments_lexer": "ipython3",
   "version": "3.11.5"
  }
 },
 "nbformat": 4,
 "nbformat_minor": 2
}
