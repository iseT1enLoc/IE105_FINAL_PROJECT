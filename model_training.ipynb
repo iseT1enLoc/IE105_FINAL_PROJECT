{
 "cells": [
  {
   "cell_type": "markdown",
   "metadata": {},
   "source": [
    "# **Import required library**\n"
   ]
  },
  {
   "cell_type": "code",
   "execution_count": 28,
   "metadata": {},
   "outputs": [],
   "source": [
    "import numpy as np\n",
    "import matplotlib.pyplot as plt\n",
    "import tensorflow as tf\n",
    "import pandas as pd\n",
    "from keras.models import Sequential\n",
    "from keras.layers import Dense\n"
   ]
  },
  {
   "cell_type": "markdown",
   "metadata": {},
   "source": [
    "# **Exploring the malware datasets**"
   ]
  },
  {
   "cell_type": "markdown",
   "metadata": {},
   "source": [
    "Malware dataset is collected on [Kaggle by this link](https://www.kaggle.com/datasets/amauricio/pe-files-malwares) :\n",
    "\n",
    "*   19611\n",
    "unique values\n",
    "*   6051 downloads and gain 135 downloads in the last 30 days"
   ]
  },
  {
   "cell_type": "code",
   "execution_count": 2,
   "metadata": {},
   "outputs": [],
   "source": [
    "#import neccessary packages\n",
    "import pandas as pd\n",
    "import matplotlib.pyplot as plt\n",
    "\n",
    "path = \".\\dataset\\dataset_malwares.csv\"\n",
    "df = pd.read_csv(path)\n"
   ]
  },
  {
   "cell_type": "code",
   "execution_count": 3,
   "metadata": {},
   "outputs": [
    {
     "name": "stdout",
     "output_type": "stream",
     "text": [
      "The shape of the dataset is: 19611 samples, 79 features\n"
     ]
    }
   ],
   "source": [
    "# Explore the shape of the dataset\n",
    "print(\"The shape of the dataset is: %d samples, %d features\" % (df.shape[0], df.shape[1]))"
   ]
  },
  {
   "cell_type": "code",
   "execution_count": 4,
   "metadata": {},
   "outputs": [
    {
     "data": {
      "text/html": [
       "<div>\n",
       "<style scoped>\n",
       "    .dataframe tbody tr th:only-of-type {\n",
       "        vertical-align: middle;\n",
       "    }\n",
       "\n",
       "    .dataframe tbody tr th {\n",
       "        vertical-align: top;\n",
       "    }\n",
       "\n",
       "    .dataframe thead th {\n",
       "        text-align: right;\n",
       "    }\n",
       "</style>\n",
       "<table border=\"1\" class=\"dataframe\">\n",
       "  <thead>\n",
       "    <tr style=\"text-align: right;\">\n",
       "      <th></th>\n",
       "      <th>e_magic</th>\n",
       "      <th>e_cblp</th>\n",
       "      <th>e_cp</th>\n",
       "      <th>e_crlc</th>\n",
       "      <th>e_cparhdr</th>\n",
       "      <th>e_minalloc</th>\n",
       "      <th>e_maxalloc</th>\n",
       "      <th>e_ss</th>\n",
       "      <th>e_sp</th>\n",
       "      <th>e_csum</th>\n",
       "      <th>...</th>\n",
       "      <th>SectionMaxChar</th>\n",
       "      <th>SectionMainChar</th>\n",
       "      <th>DirectoryEntryImport</th>\n",
       "      <th>DirectoryEntryImportSize</th>\n",
       "      <th>DirectoryEntryExport</th>\n",
       "      <th>ImageDirectoryEntryExport</th>\n",
       "      <th>ImageDirectoryEntryImport</th>\n",
       "      <th>ImageDirectoryEntryResource</th>\n",
       "      <th>ImageDirectoryEntryException</th>\n",
       "      <th>ImageDirectoryEntrySecurity</th>\n",
       "    </tr>\n",
       "  </thead>\n",
       "  <tbody>\n",
       "    <tr>\n",
       "      <th>count</th>\n",
       "      <td>19611.0</td>\n",
       "      <td>19611.000000</td>\n",
       "      <td>19611.000000</td>\n",
       "      <td>19611.000000</td>\n",
       "      <td>19611.000000</td>\n",
       "      <td>19611.000000</td>\n",
       "      <td>19611.000000</td>\n",
       "      <td>19611.000000</td>\n",
       "      <td>19611.00000</td>\n",
       "      <td>19611.000000</td>\n",
       "      <td>...</td>\n",
       "      <td>1.961100e+04</td>\n",
       "      <td>19611.0</td>\n",
       "      <td>19611.000000</td>\n",
       "      <td>19611.000000</td>\n",
       "      <td>19611.000000</td>\n",
       "      <td>1.961100e+04</td>\n",
       "      <td>1.961100e+04</td>\n",
       "      <td>1.961100e+04</td>\n",
       "      <td>1.961100e+04</td>\n",
       "      <td>1.961100e+04</td>\n",
       "    </tr>\n",
       "    <tr>\n",
       "      <th>mean</th>\n",
       "      <td>23117.0</td>\n",
       "      <td>178.615726</td>\n",
       "      <td>71.660752</td>\n",
       "      <td>49.146958</td>\n",
       "      <td>37.370710</td>\n",
       "      <td>37.032635</td>\n",
       "      <td>64178.739687</td>\n",
       "      <td>10.418490</td>\n",
       "      <td>226.46530</td>\n",
       "      <td>29.689103</td>\n",
       "      <td>...</td>\n",
       "      <td>3.163632e+09</td>\n",
       "      <td>0.0</td>\n",
       "      <td>6.112437</td>\n",
       "      <td>101.912804</td>\n",
       "      <td>14.131865</td>\n",
       "      <td>3.368566e+05</td>\n",
       "      <td>4.047213e+05</td>\n",
       "      <td>5.555810e+05</td>\n",
       "      <td>1.238834e+06</td>\n",
       "      <td>8.814868e+05</td>\n",
       "    </tr>\n",
       "    <tr>\n",
       "      <th>std</th>\n",
       "      <td>0.0</td>\n",
       "      <td>987.200729</td>\n",
       "      <td>1445.192977</td>\n",
       "      <td>1212.201919</td>\n",
       "      <td>864.515405</td>\n",
       "      <td>915.833139</td>\n",
       "      <td>9110.755873</td>\n",
       "      <td>637.116265</td>\n",
       "      <td>1249.68033</td>\n",
       "      <td>1015.303419</td>\n",
       "      <td>...</td>\n",
       "      <td>5.860332e+08</td>\n",
       "      <td>0.0</td>\n",
       "      <td>7.525158</td>\n",
       "      <td>127.076767</td>\n",
       "      <td>154.958102</td>\n",
       "      <td>2.181191e+07</td>\n",
       "      <td>4.704601e+06</td>\n",
       "      <td>6.772167e+06</td>\n",
       "      <td>5.868961e+07</td>\n",
       "      <td>2.167579e+07</td>\n",
       "    </tr>\n",
       "    <tr>\n",
       "      <th>min</th>\n",
       "      <td>23117.0</td>\n",
       "      <td>0.000000</td>\n",
       "      <td>0.000000</td>\n",
       "      <td>0.000000</td>\n",
       "      <td>0.000000</td>\n",
       "      <td>0.000000</td>\n",
       "      <td>0.000000</td>\n",
       "      <td>0.000000</td>\n",
       "      <td>0.00000</td>\n",
       "      <td>0.000000</td>\n",
       "      <td>...</td>\n",
       "      <td>1.073742e+09</td>\n",
       "      <td>0.0</td>\n",
       "      <td>0.000000</td>\n",
       "      <td>0.000000</td>\n",
       "      <td>0.000000</td>\n",
       "      <td>0.000000e+00</td>\n",
       "      <td>0.000000e+00</td>\n",
       "      <td>0.000000e+00</td>\n",
       "      <td>0.000000e+00</td>\n",
       "      <td>0.000000e+00</td>\n",
       "    </tr>\n",
       "    <tr>\n",
       "      <th>25%</th>\n",
       "      <td>23117.0</td>\n",
       "      <td>144.000000</td>\n",
       "      <td>3.000000</td>\n",
       "      <td>0.000000</td>\n",
       "      <td>4.000000</td>\n",
       "      <td>0.000000</td>\n",
       "      <td>65535.000000</td>\n",
       "      <td>0.000000</td>\n",
       "      <td>184.00000</td>\n",
       "      <td>0.000000</td>\n",
       "      <td>...</td>\n",
       "      <td>3.221226e+09</td>\n",
       "      <td>0.0</td>\n",
       "      <td>2.000000</td>\n",
       "      <td>17.000000</td>\n",
       "      <td>0.000000</td>\n",
       "      <td>0.000000e+00</td>\n",
       "      <td>2.960400e+04</td>\n",
       "      <td>4.096000e+04</td>\n",
       "      <td>0.000000e+00</td>\n",
       "      <td>0.000000e+00</td>\n",
       "    </tr>\n",
       "    <tr>\n",
       "      <th>50%</th>\n",
       "      <td>23117.0</td>\n",
       "      <td>144.000000</td>\n",
       "      <td>3.000000</td>\n",
       "      <td>0.000000</td>\n",
       "      <td>4.000000</td>\n",
       "      <td>0.000000</td>\n",
       "      <td>65535.000000</td>\n",
       "      <td>0.000000</td>\n",
       "      <td>184.00000</td>\n",
       "      <td>0.000000</td>\n",
       "      <td>...</td>\n",
       "      <td>3.221226e+09</td>\n",
       "      <td>0.0</td>\n",
       "      <td>4.000000</td>\n",
       "      <td>80.000000</td>\n",
       "      <td>0.000000</td>\n",
       "      <td>0.000000e+00</td>\n",
       "      <td>8.222400e+04</td>\n",
       "      <td>1.310720e+05</td>\n",
       "      <td>0.000000e+00</td>\n",
       "      <td>0.000000e+00</td>\n",
       "    </tr>\n",
       "    <tr>\n",
       "      <th>75%</th>\n",
       "      <td>23117.0</td>\n",
       "      <td>144.000000</td>\n",
       "      <td>3.000000</td>\n",
       "      <td>0.000000</td>\n",
       "      <td>4.000000</td>\n",
       "      <td>0.000000</td>\n",
       "      <td>65535.000000</td>\n",
       "      <td>0.000000</td>\n",
       "      <td>184.00000</td>\n",
       "      <td>0.000000</td>\n",
       "      <td>...</td>\n",
       "      <td>3.221226e+09</td>\n",
       "      <td>0.0</td>\n",
       "      <td>8.000000</td>\n",
       "      <td>135.000000</td>\n",
       "      <td>0.000000</td>\n",
       "      <td>0.000000e+00</td>\n",
       "      <td>2.477080e+05</td>\n",
       "      <td>3.870720e+05</td>\n",
       "      <td>0.000000e+00</td>\n",
       "      <td>3.184640e+05</td>\n",
       "    </tr>\n",
       "    <tr>\n",
       "      <th>max</th>\n",
       "      <td>23117.0</td>\n",
       "      <td>59448.000000</td>\n",
       "      <td>63200.000000</td>\n",
       "      <td>64613.000000</td>\n",
       "      <td>43690.000000</td>\n",
       "      <td>43690.000000</td>\n",
       "      <td>65535.000000</td>\n",
       "      <td>61436.000000</td>\n",
       "      <td>65464.00000</td>\n",
       "      <td>63262.000000</td>\n",
       "      <td>...</td>\n",
       "      <td>4.294967e+09</td>\n",
       "      <td>0.0</td>\n",
       "      <td>588.000000</td>\n",
       "      <td>4016.000000</td>\n",
       "      <td>7319.000000</td>\n",
       "      <td>2.147484e+09</td>\n",
       "      <td>5.368914e+08</td>\n",
       "      <td>8.304108e+08</td>\n",
       "      <td>2.906159e+09</td>\n",
       "      <td>2.415919e+09</td>\n",
       "    </tr>\n",
       "  </tbody>\n",
       "</table>\n",
       "<p>8 rows × 78 columns</p>\n",
       "</div>"
      ],
      "text/plain": [
       "       e_magic        e_cblp          e_cp        e_crlc     e_cparhdr  \\\n",
       "count  19611.0  19611.000000  19611.000000  19611.000000  19611.000000   \n",
       "mean   23117.0    178.615726     71.660752     49.146958     37.370710   \n",
       "std        0.0    987.200729   1445.192977   1212.201919    864.515405   \n",
       "min    23117.0      0.000000      0.000000      0.000000      0.000000   \n",
       "25%    23117.0    144.000000      3.000000      0.000000      4.000000   \n",
       "50%    23117.0    144.000000      3.000000      0.000000      4.000000   \n",
       "75%    23117.0    144.000000      3.000000      0.000000      4.000000   \n",
       "max    23117.0  59448.000000  63200.000000  64613.000000  43690.000000   \n",
       "\n",
       "         e_minalloc    e_maxalloc          e_ss         e_sp        e_csum  \\\n",
       "count  19611.000000  19611.000000  19611.000000  19611.00000  19611.000000   \n",
       "mean      37.032635  64178.739687     10.418490    226.46530     29.689103   \n",
       "std      915.833139   9110.755873    637.116265   1249.68033   1015.303419   \n",
       "min        0.000000      0.000000      0.000000      0.00000      0.000000   \n",
       "25%        0.000000  65535.000000      0.000000    184.00000      0.000000   \n",
       "50%        0.000000  65535.000000      0.000000    184.00000      0.000000   \n",
       "75%        0.000000  65535.000000      0.000000    184.00000      0.000000   \n",
       "max    43690.000000  65535.000000  61436.000000  65464.00000  63262.000000   \n",
       "\n",
       "       ...  SectionMaxChar  SectionMainChar  DirectoryEntryImport  \\\n",
       "count  ...    1.961100e+04          19611.0          19611.000000   \n",
       "mean   ...    3.163632e+09              0.0              6.112437   \n",
       "std    ...    5.860332e+08              0.0              7.525158   \n",
       "min    ...    1.073742e+09              0.0              0.000000   \n",
       "25%    ...    3.221226e+09              0.0              2.000000   \n",
       "50%    ...    3.221226e+09              0.0              4.000000   \n",
       "75%    ...    3.221226e+09              0.0              8.000000   \n",
       "max    ...    4.294967e+09              0.0            588.000000   \n",
       "\n",
       "       DirectoryEntryImportSize  DirectoryEntryExport  \\\n",
       "count              19611.000000          19611.000000   \n",
       "mean                 101.912804             14.131865   \n",
       "std                  127.076767            154.958102   \n",
       "min                    0.000000              0.000000   \n",
       "25%                   17.000000              0.000000   \n",
       "50%                   80.000000              0.000000   \n",
       "75%                  135.000000              0.000000   \n",
       "max                 4016.000000           7319.000000   \n",
       "\n",
       "       ImageDirectoryEntryExport  ImageDirectoryEntryImport  \\\n",
       "count               1.961100e+04               1.961100e+04   \n",
       "mean                3.368566e+05               4.047213e+05   \n",
       "std                 2.181191e+07               4.704601e+06   \n",
       "min                 0.000000e+00               0.000000e+00   \n",
       "25%                 0.000000e+00               2.960400e+04   \n",
       "50%                 0.000000e+00               8.222400e+04   \n",
       "75%                 0.000000e+00               2.477080e+05   \n",
       "max                 2.147484e+09               5.368914e+08   \n",
       "\n",
       "       ImageDirectoryEntryResource  ImageDirectoryEntryException  \\\n",
       "count                 1.961100e+04                  1.961100e+04   \n",
       "mean                  5.555810e+05                  1.238834e+06   \n",
       "std                   6.772167e+06                  5.868961e+07   \n",
       "min                   0.000000e+00                  0.000000e+00   \n",
       "25%                   4.096000e+04                  0.000000e+00   \n",
       "50%                   1.310720e+05                  0.000000e+00   \n",
       "75%                   3.870720e+05                  0.000000e+00   \n",
       "max                   8.304108e+08                  2.906159e+09   \n",
       "\n",
       "       ImageDirectoryEntrySecurity  \n",
       "count                 1.961100e+04  \n",
       "mean                  8.814868e+05  \n",
       "std                   2.167579e+07  \n",
       "min                   0.000000e+00  \n",
       "25%                   0.000000e+00  \n",
       "50%                   0.000000e+00  \n",
       "75%                   3.184640e+05  \n",
       "max                   2.415919e+09  \n",
       "\n",
       "[8 rows x 78 columns]"
      ]
     },
     "execution_count": 4,
     "metadata": {},
     "output_type": "execute_result"
    }
   ],
   "source": [
    "df.describe()"
   ]
  },
  {
   "cell_type": "code",
   "execution_count": 27,
   "metadata": {},
   "outputs": [
    {
     "data": {
      "text/plain": [
       "Malware\n",
       "1    14599\n",
       "0     5012\n",
       "Name: count, dtype: int64"
      ]
     },
     "execution_count": 27,
     "metadata": {},
     "output_type": "execute_result"
    }
   ],
   "source": [
    "df[\"Malware\"].value_counts()"
   ]
  },
  {
   "cell_type": "code",
   "execution_count": 5,
   "metadata": {},
   "outputs": [
    {
     "data": {
      "image/png": "[encoded data removed]",
      "text/plain": [
       "<Figure size 640x480 with 1 Axes>"
      ]
     },
     "metadata": {},
     "output_type": "display_data"
    }
   ],
   "source": [
    "# Calculate counts of malware and non-malware\n",
    "malware_count = (df['Malware'] == 1).sum()  # Summing the 1s (which represent malware)\n",
    "non_malware_count = len(df) - malware_count  # Total count minus malware count\n",
    "\n",
    "# Bar chart\n",
    "categories = ['Non-Malware', 'Malware']\n",
    "counts = [non_malware_count, malware_count]\n",
    "\n",
    "plt.bar(categories, counts, color=['green', 'red'])\n",
    "plt.xlabel('File Type')\n",
    "plt.ylabel('Count')\n",
    "plt.title('Comparison of Malware and Non-Malware Files')\n",
    "plt.show()\n",
    "#after plotting the grapth we can see that the data is imbalanced it might cause some\n",
    "#problems to the model as well"
   ]
  },
  {
   "cell_type": "markdown",
   "metadata": {},
   "source": [
    "**DATA CLEANING**"
   ]
  },
  {
   "cell_type": "code",
   "execution_count": null,
   "metadata": {},
   "outputs": [
    {
     "name": "stdout",
     "output_type": "stream",
     "text": [
      "The Name and Malware are remove successfully\n"
     ]
    }
   ],
   "source": [
    "y = df[\"Malware\"]\n",
    "x = df.drop(columns = [\"Malware\",\"Name\"])\n",
    "print(\"The Name and Malware are remove successfully\")\n",
    "#left this part for further works later"
   ]
  },
  {
   "cell_type": "markdown",
   "metadata": {},
   "source": [
    "# **Splitting the dataset into test set and train set**"
   ]
  },
  {
   "cell_type": "code",
   "execution_count": null,
   "metadata": {},
   "outputs": [],
   "source": [
    "from sklearn.model_selection import train_test_split\n",
    "X_train, X_test, y_train, y_test = train_test_split(x,y,test_size = 0.2,random_state = 42)"
   ]
  },
  {
   "cell_type": "code",
   "execution_count": null,
   "metadata": {},
   "outputs": [
    {
     "name": "stdout",
     "output_type": "stream",
     "text": [
      "The shape of training set is: 15688 samples, 77 features\n"
     ]
    }
   ],
   "source": [
    "# Information of training set\n",
    "print(\"The shape of training set is: %d samples, %d features\" % (X_train.shape[0], X_train.shape[1]))"
   ]
  },
  {
   "cell_type": "code",
   "execution_count": 32,
   "metadata": {},
   "outputs": [
    {
     "data": {
      "text/plain": [
       "Malware\n",
       "1    11671\n",
       "0     4017\n",
       "Name: count, dtype: int64"
      ]
     },
     "execution_count": 32,
     "metadata": {},
     "output_type": "execute_result"
    }
   ],
   "source": [
    "y_train.value_counts()"
   ]
  },
  {
   "cell_type": "markdown",
   "metadata": {},
   "source": [
    "***Deal with imbalanced data***\n",
    "* Reference: [Deal with imbalanced data](https://towardsdatascience.com/how-to-deal-with-imbalanced-data-34ab7db9b100) "
   ]
  },
  {
   "cell_type": "code",
   "execution_count": 29,
   "metadata": {},
   "outputs": [],
   "source": [
    "# import necessary libs\n",
    "from sklearn.utils import resample"
   ]
  },
  {
   "cell_type": "code",
   "execution_count": 41,
   "metadata": {},
   "outputs": [
    {
     "data": {
      "text/plain": [
       "Malware\n",
       "1    4017\n",
       "0    4017\n",
       "Name: count, dtype: int64"
      ]
     },
     "execution_count": 41,
     "metadata": {},
     "output_type": "execute_result"
    }
   ],
   "source": [
    "# concatenate our training data back together\n",
    "df = pd.concat([X_train, y_train], axis=1)\n",
    "\n",
    "df_majority = df[df.Malware == 1]\n",
    "df_minority = df[df.Malware == 0]\n",
    "\n",
    " # Downsample majority class\n",
    "df_majority_downsampled = resample(df_majority, \n",
    "                                 replace=False,    # sample without replacement\n",
    "                                 n_samples=len(df_minority),  # to match minority class\n",
    "                                 random_state=1234) # reproducible results\n",
    " \n",
    "# Combine minority class with downsampled majority class\n",
    "df_downsampled = pd.concat([df_majority_downsampled, df_minority])\n",
    " \n",
    "# Display new class counts\n",
    "df_downsampled[\"Malware\"].value_counts()\n"
   ]
  },
  {
   "cell_type": "code",
   "execution_count": 44,
   "metadata": {},
   "outputs": [
    {
     "name": "stdout",
     "output_type": "stream",
     "text": [
      "The Malware are remove successfully\n"
     ]
    }
   ],
   "source": [
    "y_train_v1 = df_downsampled[\"Malware\"]\n",
    "x_train_v1 = df_downsampled.drop(columns = [\"Malware\"])\n",
    "print(\"The Malware are remove successfully\")\n",
    "#left this part for further works later"
   ]
  },
  {
   "cell_type": "markdown",
   "metadata": {},
   "source": [
    "# **Model**"
   ]
  },
  {
   "cell_type": "markdown",
   "metadata": {},
   "source": [
    "**1-Sequential model**"
   ]
  },
  {
   "cell_type": "code",
   "execution_count": 46,
   "metadata": {},
   "outputs": [
    {
     "name": "stderr",
     "output_type": "stream",
     "text": [
      "d:\\Federated_Learning\\venv\\Lib\\site-packages\\keras\\src\\layers\\core\\dense.py:88: UserWarning: Do not pass an `input_shape`/`input_dim` argument to a layer. When using Sequential models, prefer using an `Input(shape)` object as the first layer in the model instead.\n",
      "  super().__init__(activity_regularizer=activity_regularizer, **kwargs)\n"
     ]
    },
    {
     "name": "stdout",
     "output_type": "stream",
     "text": [
      "\u001b[1m252/252\u001b[0m \u001b[32m━━━━━━━━━━━━━━━━━━━━\u001b[0m\u001b[37m\u001b[0m \u001b[1m4s\u001b[0m 2ms/step - accuracy: 0.6650 - loss: 426168512.0000\n"
     ]
    },
    {
     "data": {
      "text/plain": [
       "<keras.src.callbacks.history.History at 0x1c6408aafd0>"
      ]
     },
     "execution_count": 46,
     "metadata": {},
     "output_type": "execute_result"
    }
   ],
   "source": [
    "from keras.models import Sequential\n",
    "from keras.layers import Dense, Dropout\n",
    "from keras.optimizers import Adam\n",
    "\n",
    "model = Sequential()\n",
    "model.add(Dense(64, activation='relu', input_shape=(77,))) # Increase neurons\n",
    "model.add(Dense(64, activation='relu'))  # Add more layers\n",
    "model.add(Dropout(0.5))  # Regularization\n",
    "model.add(Dense(32, activation='relu'))  # Additional layer\n",
    "model.add(Dense(1, activation='sigmoid'))\n",
    "\n",
    "optimizer = Adam(learning_rate=0.001)  # Set learning rate directly\n",
    "model.compile(loss='binary_crossentropy',\n",
    "              optimizer=optimizer,\n",
    "              metrics=['accuracy'])\n",
    "model.fit(x_train_v1,y_train_v1)\n"
   ]
  },
  {
   "cell_type": "markdown",
   "metadata": {},
   "source": [
    "***Sequential model Evaluation on test data***"
   ]
  },
  {
   "cell_type": "code",
   "execution_count": 47,
   "metadata": {},
   "outputs": [],
   "source": [
    "from sklearn.metrics import f1_score, accuracy_score, confusion_matrix"
   ]
  },
  {
   "cell_type": "code",
   "execution_count": 48,
   "metadata": {},
   "outputs": [
    {
     "name": "stdout",
     "output_type": "stream",
     "text": [
      "\u001b[1m491/491\u001b[0m \u001b[32m━━━━━━━━━━━━━━━━━━━━\u001b[0m\u001b[37m\u001b[0m \u001b[1m1s\u001b[0m 2ms/step\n"
     ]
    },
    {
     "data": {
      "text/plain": [
       "0.5406680265170831"
      ]
     },
     "execution_count": 48,
     "metadata": {},
     "output_type": "execute_result"
    }
   ],
   "source": [
    "#accuracy on the train dataset\n",
    "train_prediction = model.predict(X_train)\n",
    "accuracy_score(y_train,train_prediction)"
   ]
  },
  {
   "cell_type": "code",
   "execution_count": 49,
   "metadata": {},
   "outputs": [
    {
     "name": "stdout",
     "output_type": "stream",
     "text": [
      "\u001b[1m123/123\u001b[0m \u001b[32m━━━━━━━━━━━━━━━━━━━━\u001b[0m\u001b[37m\u001b[0m \u001b[1m0s\u001b[0m 2ms/step\n"
     ]
    },
    {
     "data": {
      "text/plain": [
       "0.5393831251593169"
      ]
     },
     "execution_count": 49,
     "metadata": {},
     "output_type": "execute_result"
    }
   ],
   "source": [
    "#accuracy on the test dataset\n",
    "test_prediction = model.predict(X_test)\n",
    "accuracy_score(y_test,test_prediction)"
   ]
  },
  {
   "cell_type": "code",
   "execution_count": 50,
   "metadata": {},
   "outputs": [
    {
     "data": {
      "text/plain": [
       "0.5572163685371233"
      ]
     },
     "execution_count": 50,
     "metadata": {},
     "output_type": "execute_result"
    }
   ],
   "source": [
    "f1_score(y_test,test_prediction)"
   ]
  },
  {
   "cell_type": "markdown",
   "metadata": {},
   "source": [
    "***Confusion matrix-Sequential model***"
   ]
  },
  {
   "cell_type": "code",
   "execution_count": 51,
   "metadata": {},
   "outputs": [
    {
     "data": {
      "image/png": "[encoded data removed]",
      "text/plain": [
       "<Figure size 640x480 with 2 Axes>"
      ]
     },
     "metadata": {},
     "output_type": "display_data"
    }
   ],
   "source": [
    "import matplotlib.pyplot as plt\n",
    "from sklearn.metrics import ConfusionMatrixDisplay\n",
    "\n",
    "cm_display = ConfusionMatrixDisplay.from_predictions(\n",
    "   y_test, test_prediction)\n",
    "cm_display.ax_.set_title('Confusion Matrix')\n",
    "plt.show()"
   ]
  },
  {
   "cell_type": "markdown",
   "metadata": {},
   "source": [
    "***2-Decision tree classifier***"
   ]
  },
  {
   "cell_type": "code",
   "execution_count": 53,
   "metadata": {},
   "outputs": [],
   "source": [
    "from sklearn.tree import DecisionTreeClassifier\n",
    "from sklearn.metrics import accuracy_score, classification_report, confusion_matrix"
   ]
  },
  {
   "cell_type": "code",
   "execution_count": 60,
   "metadata": {},
   "outputs": [],
   "source": [
    "# Initialize the DecisionTreeClassifier\n",
    "decision_tree_classifier = DecisionTreeClassifier()\n",
    "\n",
    "# Train the model\n",
    "decision_tree_classifier.fit(x_train_v1, y_train_v1)\n",
    "\n",
    "# Make predictions\n",
    "y_pred_decision_tree = decision_tree_classifier.predict(X_test)\n"
   ]
  },
  {
   "cell_type": "code",
   "execution_count": 61,
   "metadata": {},
   "outputs": [
    {
     "name": "stdout",
     "output_type": "stream",
     "text": [
      "Accuracy: 0.9813917919959215\n"
     ]
    }
   ],
   "source": [
    "# Evaluate the model\n",
    "accuracy = accuracy_score(y_test, y_pred_decision_tree)\n",
    "print(\"Accuracy:\", accuracy)"
   ]
  },
  {
   "cell_type": "code",
   "execution_count": 62,
   "metadata": {},
   "outputs": [
    {
     "name": "stdout",
     "output_type": "stream",
     "text": [
      "              precision    recall  f1-score   support\n",
      "\n",
      "           0       0.94      0.98      0.96       995\n",
      "           1       0.99      0.98      0.99      2928\n",
      "\n",
      "    accuracy                           0.98      3923\n",
      "   macro avg       0.97      0.98      0.98      3923\n",
      "weighted avg       0.98      0.98      0.98      3923\n",
      "\n"
     ]
    }
   ],
   "source": [
    "# Print classification report\n",
    "print(classification_report(y_test, y_pred_decision_tree))"
   ]
  },
  {
   "cell_type": "code",
   "execution_count": 63,
   "metadata": {},
   "outputs": [
    {
     "data": {
      "image/png": "[encoded data removed]",
      "text/plain": [
       "<Figure size 640x480 with 2 Axes>"
      ]
     },
     "metadata": {},
     "output_type": "display_data"
    }
   ],
   "source": [
    "import matplotlib.pyplot as plt\n",
    "from sklearn.metrics import ConfusionMatrixDisplay\n",
    "\n",
    "cm_display = ConfusionMatrixDisplay.from_predictions(\n",
    "   y_test,   y_pred_decision_tree)\n",
    "cm_display.ax_.set_title('Confusion Matrix')\n",
    "plt.show()"
   ]
  },
  {
   "cell_type": "markdown",
   "metadata": {},
   "source": [
    "***Save model***"
   ]
  },
  {
   "cell_type": "code",
   "execution_count": 52,
   "metadata": {},
   "outputs": [
    {
     "name": "stderr",
     "output_type": "stream",
     "text": [
      "WARNING:absl:You are saving your model as an HDF5 file via `model.save()` or `keras.saving.save_model(model)`. This file format is considered legacy. We recommend using instead the native Keras format, e.g. `model.save('my_model.keras')` or `keras.saving.save_model(model, 'my_model.keras')`. \n"
     ]
    }
   ],
   "source": [
    "from tensorflow.keras.models import Sequential\n",
    "\n",
    "# Assuming 'model' is your trained Sequential model\n",
    "model.save(\"model_of_resampling_data_downscale.h5\")\n"
   ]
  },
  {
   "cell_type": "code",
   "execution_count": 65,
   "metadata": {},
   "outputs": [],
   "source": [
    "#save decision tree model\n",
    "import joblib\n"
   ]
  },
  {
   "cell_type": "code",
   "execution_count": 66,
   "metadata": {},
   "outputs": [
    {
     "name": "stdout",
     "output_type": "stream",
     "text": [
      "Model saved to decision_tree_model.joblib\n"
     ]
    }
   ],
   "source": [
    "# Save the trained model to a file\n",
    "filename = 'decision_tree_model.joblib'\n",
    "joblib.dump(decision_tree_classifier, filename)\n",
    "print(f\"Model saved to {filename}\")"
   ]
  }
 ],
 "metadata": {
  "kernelspec": {
   "display_name": "venv",
   "language": "python",
   "name": "python3"
  },
  "language_info": {
   "codemirror_mode": {
    "name": "ipython",
    "version": 3
   },
   "file_extension": ".py",
   "mimetype": "text/x-python",
   "name": "python",
   "nbconvert_exporter": "python",
   "pygments_lexer": "ipython3",
   "version": "3.11.5"
  }
 },
 "nbformat": 4,
 "nbformat_minor": 2
}
