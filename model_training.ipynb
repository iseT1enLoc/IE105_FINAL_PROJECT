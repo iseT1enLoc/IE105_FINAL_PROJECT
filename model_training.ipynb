{
 "cells": [
  {
   "cell_type": "markdown",
   "metadata": {},
   "source": [
    "# **Import required library**\n"
   ]
  },
  {
   "cell_type": "markdown",
   "metadata": {},
   "source": [
    "# **Exploring the malware datasets**"
   ]
  },
  {
   "cell_type": "code",
   "execution_count": 3,
   "metadata": {},
   "outputs": [],
   "source": [
    "import numpy as np\n",
    "import matplotlib.pyplot as plt\n",
    "import tensorflow as tf\n",
    "import pandas as pd\n",
    "from keras.models import Sequential\n",
    "from keras.layers import Dense\n",
    "\n"
   ]
  },
  {
   "cell_type": "markdown",
   "metadata": {},
   "source": [
    "Malware dataset is collected on [Kaggle by this link](https://www.kaggle.com/datasets/amauricio/pe-files-malwares) :\n",
    "\n",
    "*   19611\n",
    "unique values\n",
    "*   6051 downloads and gain 135 downloads in the last 30 days"
   ]
  },
  {
   "cell_type": "code",
   "execution_count": 5,
   "metadata": {},
   "outputs": [],
   "source": [
    "#import neccessary packages\n",
    "import pandas as pd\n",
    "import matplotlib.pyplot as plt\n",
    "\n",
    "path = \".\\dataset\\dataset_malwares.csv\"\n",
    "df = pd.read_csv(path)\n"
   ]
  },
  {
   "cell_type": "code",
   "execution_count": 6,
   "metadata": {},
   "outputs": [
    {
     "name": "stdout",
     "output_type": "stream",
     "text": [
      "The shape of the dataset is: 19611 samples, 79 features\n"
     ]
    }
   ],
   "source": [
    "# Explore the shape of the dataset\n",
    "print(\"The shape of the dataset is: %d samples, %d features\" % (df.shape[0], df.shape[1]))"
   ]
  },
  {
   "cell_type": "code",
   "execution_count": 7,
   "metadata": {},
   "outputs": [
    {
     "data": {
      "text/html": [
       "<div>\n",
       "<style scoped>\n",
       "    .dataframe tbody tr th:only-of-type {\n",
       "        vertical-align: middle;\n",
       "    }\n",
       "\n",
       "    .dataframe tbody tr th {\n",
       "        vertical-align: top;\n",
       "    }\n",
       "\n",
       "    .dataframe thead th {\n",
       "        text-align: right;\n",
       "    }\n",
       "</style>\n",
       "<table border=\"1\" class=\"dataframe\">\n",
       "  <thead>\n",
       "    <tr style=\"text-align: right;\">\n",
       "      <th></th>\n",
       "      <th>e_magic</th>\n",
       "      <th>e_cblp</th>\n",
       "      <th>e_cp</th>\n",
       "      <th>e_crlc</th>\n",
       "      <th>e_cparhdr</th>\n",
       "      <th>e_minalloc</th>\n",
       "      <th>e_maxalloc</th>\n",
       "      <th>e_ss</th>\n",
       "      <th>e_sp</th>\n",
       "      <th>e_csum</th>\n",
       "      <th>...</th>\n",
       "      <th>SectionMaxChar</th>\n",
       "      <th>SectionMainChar</th>\n",
       "      <th>DirectoryEntryImport</th>\n",
       "      <th>DirectoryEntryImportSize</th>\n",
       "      <th>DirectoryEntryExport</th>\n",
       "      <th>ImageDirectoryEntryExport</th>\n",
       "      <th>ImageDirectoryEntryImport</th>\n",
       "      <th>ImageDirectoryEntryResource</th>\n",
       "      <th>ImageDirectoryEntryException</th>\n",
       "      <th>ImageDirectoryEntrySecurity</th>\n",
       "    </tr>\n",
       "  </thead>\n",
       "  <tbody>\n",
       "    <tr>\n",
       "      <th>count</th>\n",
       "      <td>19611.0</td>\n",
       "      <td>19611.000000</td>\n",
       "      <td>19611.000000</td>\n",
       "      <td>19611.000000</td>\n",
       "      <td>19611.000000</td>\n",
       "      <td>19611.000000</td>\n",
       "      <td>19611.000000</td>\n",
       "      <td>19611.000000</td>\n",
       "      <td>19611.00000</td>\n",
       "      <td>19611.000000</td>\n",
       "      <td>...</td>\n",
       "      <td>1.961100e+04</td>\n",
       "      <td>19611.0</td>\n",
       "      <td>19611.000000</td>\n",
       "      <td>19611.000000</td>\n",
       "      <td>19611.000000</td>\n",
       "      <td>1.961100e+04</td>\n",
       "      <td>1.961100e+04</td>\n",
       "      <td>1.961100e+04</td>\n",
       "      <td>1.961100e+04</td>\n",
       "      <td>1.961100e+04</td>\n",
       "    </tr>\n",
       "    <tr>\n",
       "      <th>mean</th>\n",
       "      <td>23117.0</td>\n",
       "      <td>178.615726</td>\n",
       "      <td>71.660752</td>\n",
       "      <td>49.146958</td>\n",
       "      <td>37.370710</td>\n",
       "      <td>37.032635</td>\n",
       "      <td>64178.739687</td>\n",
       "      <td>10.418490</td>\n",
       "      <td>226.46530</td>\n",
       "      <td>29.689103</td>\n",
       "      <td>...</td>\n",
       "      <td>3.163632e+09</td>\n",
       "      <td>0.0</td>\n",
       "      <td>6.112437</td>\n",
       "      <td>101.912804</td>\n",
       "      <td>14.131865</td>\n",
       "      <td>3.368566e+05</td>\n",
       "      <td>4.047213e+05</td>\n",
       "      <td>5.555810e+05</td>\n",
       "      <td>1.238834e+06</td>\n",
       "      <td>8.814868e+05</td>\n",
       "    </tr>\n",
       "    <tr>\n",
       "      <th>std</th>\n",
       "      <td>0.0</td>\n",
       "      <td>987.200729</td>\n",
       "      <td>1445.192977</td>\n",
       "      <td>1212.201919</td>\n",
       "      <td>864.515405</td>\n",
       "      <td>915.833139</td>\n",
       "      <td>9110.755873</td>\n",
       "      <td>637.116265</td>\n",
       "      <td>1249.68033</td>\n",
       "      <td>1015.303419</td>\n",
       "      <td>...</td>\n",
       "      <td>5.860332e+08</td>\n",
       "      <td>0.0</td>\n",
       "      <td>7.525158</td>\n",
       "      <td>127.076767</td>\n",
       "      <td>154.958102</td>\n",
       "      <td>2.181191e+07</td>\n",
       "      <td>4.704601e+06</td>\n",
       "      <td>6.772167e+06</td>\n",
       "      <td>5.868961e+07</td>\n",
       "      <td>2.167579e+07</td>\n",
       "    </tr>\n",
       "    <tr>\n",
       "      <th>min</th>\n",
       "      <td>23117.0</td>\n",
       "      <td>0.000000</td>\n",
       "      <td>0.000000</td>\n",
       "      <td>0.000000</td>\n",
       "      <td>0.000000</td>\n",
       "      <td>0.000000</td>\n",
       "      <td>0.000000</td>\n",
       "      <td>0.000000</td>\n",
       "      <td>0.00000</td>\n",
       "      <td>0.000000</td>\n",
       "      <td>...</td>\n",
       "      <td>1.073742e+09</td>\n",
       "      <td>0.0</td>\n",
       "      <td>0.000000</td>\n",
       "      <td>0.000000</td>\n",
       "      <td>0.000000</td>\n",
       "      <td>0.000000e+00</td>\n",
       "      <td>0.000000e+00</td>\n",
       "      <td>0.000000e+00</td>\n",
       "      <td>0.000000e+00</td>\n",
       "      <td>0.000000e+00</td>\n",
       "    </tr>\n",
       "    <tr>\n",
       "      <th>25%</th>\n",
       "      <td>23117.0</td>\n",
       "      <td>144.000000</td>\n",
       "      <td>3.000000</td>\n",
       "      <td>0.000000</td>\n",
       "      <td>4.000000</td>\n",
       "      <td>0.000000</td>\n",
       "      <td>65535.000000</td>\n",
       "      <td>0.000000</td>\n",
       "      <td>184.00000</td>\n",
       "      <td>0.000000</td>\n",
       "      <td>...</td>\n",
       "      <td>3.221226e+09</td>\n",
       "      <td>0.0</td>\n",
       "      <td>2.000000</td>\n",
       "      <td>17.000000</td>\n",
       "      <td>0.000000</td>\n",
       "      <td>0.000000e+00</td>\n",
       "      <td>2.960400e+04</td>\n",
       "      <td>4.096000e+04</td>\n",
       "      <td>0.000000e+00</td>\n",
       "      <td>0.000000e+00</td>\n",
       "    </tr>\n",
       "    <tr>\n",
       "      <th>50%</th>\n",
       "      <td>23117.0</td>\n",
       "      <td>144.000000</td>\n",
       "      <td>3.000000</td>\n",
       "      <td>0.000000</td>\n",
       "      <td>4.000000</td>\n",
       "      <td>0.000000</td>\n",
       "      <td>65535.000000</td>\n",
       "      <td>0.000000</td>\n",
       "      <td>184.00000</td>\n",
       "      <td>0.000000</td>\n",
       "      <td>...</td>\n",
       "      <td>3.221226e+09</td>\n",
       "      <td>0.0</td>\n",
       "      <td>4.000000</td>\n",
       "      <td>80.000000</td>\n",
       "      <td>0.000000</td>\n",
       "      <td>0.000000e+00</td>\n",
       "      <td>8.222400e+04</td>\n",
       "      <td>1.310720e+05</td>\n",
       "      <td>0.000000e+00</td>\n",
       "      <td>0.000000e+00</td>\n",
       "    </tr>\n",
       "    <tr>\n",
       "      <th>75%</th>\n",
       "      <td>23117.0</td>\n",
       "      <td>144.000000</td>\n",
       "      <td>3.000000</td>\n",
       "      <td>0.000000</td>\n",
       "      <td>4.000000</td>\n",
       "      <td>0.000000</td>\n",
       "      <td>65535.000000</td>\n",
       "      <td>0.000000</td>\n",
       "      <td>184.00000</td>\n",
       "      <td>0.000000</td>\n",
       "      <td>...</td>\n",
       "      <td>3.221226e+09</td>\n",
       "      <td>0.0</td>\n",
       "      <td>8.000000</td>\n",
       "      <td>135.000000</td>\n",
       "      <td>0.000000</td>\n",
       "      <td>0.000000e+00</td>\n",
       "      <td>2.477080e+05</td>\n",
       "      <td>3.870720e+05</td>\n",
       "      <td>0.000000e+00</td>\n",
       "      <td>3.184640e+05</td>\n",
       "    </tr>\n",
       "    <tr>\n",
       "      <th>max</th>\n",
       "      <td>23117.0</td>\n",
       "      <td>59448.000000</td>\n",
       "      <td>63200.000000</td>\n",
       "      <td>64613.000000</td>\n",
       "      <td>43690.000000</td>\n",
       "      <td>43690.000000</td>\n",
       "      <td>65535.000000</td>\n",
       "      <td>61436.000000</td>\n",
       "      <td>65464.00000</td>\n",
       "      <td>63262.000000</td>\n",
       "      <td>...</td>\n",
       "      <td>4.294967e+09</td>\n",
       "      <td>0.0</td>\n",
       "      <td>588.000000</td>\n",
       "      <td>4016.000000</td>\n",
       "      <td>7319.000000</td>\n",
       "      <td>2.147484e+09</td>\n",
       "      <td>5.368914e+08</td>\n",
       "      <td>8.304108e+08</td>\n",
       "      <td>2.906159e+09</td>\n",
       "      <td>2.415919e+09</td>\n",
       "    </tr>\n",
       "  </tbody>\n",
       "</table>\n",
       "<p>8 rows × 78 columns</p>\n",
       "</div>"
      ],
      "text/plain": [
       "       e_magic        e_cblp          e_cp        e_crlc     e_cparhdr  \\\n",
       "count  19611.0  19611.000000  19611.000000  19611.000000  19611.000000   \n",
       "mean   23117.0    178.615726     71.660752     49.146958     37.370710   \n",
       "std        0.0    987.200729   1445.192977   1212.201919    864.515405   \n",
       "min    23117.0      0.000000      0.000000      0.000000      0.000000   \n",
       "25%    23117.0    144.000000      3.000000      0.000000      4.000000   \n",
       "50%    23117.0    144.000000      3.000000      0.000000      4.000000   \n",
       "75%    23117.0    144.000000      3.000000      0.000000      4.000000   \n",
       "max    23117.0  59448.000000  63200.000000  64613.000000  43690.000000   \n",
       "\n",
       "         e_minalloc    e_maxalloc          e_ss         e_sp        e_csum  \\\n",
       "count  19611.000000  19611.000000  19611.000000  19611.00000  19611.000000   \n",
       "mean      37.032635  64178.739687     10.418490    226.46530     29.689103   \n",
       "std      915.833139   9110.755873    637.116265   1249.68033   1015.303419   \n",
       "min        0.000000      0.000000      0.000000      0.00000      0.000000   \n",
       "25%        0.000000  65535.000000      0.000000    184.00000      0.000000   \n",
       "50%        0.000000  65535.000000      0.000000    184.00000      0.000000   \n",
       "75%        0.000000  65535.000000      0.000000    184.00000      0.000000   \n",
       "max    43690.000000  65535.000000  61436.000000  65464.00000  63262.000000   \n",
       "\n",
       "       ...  SectionMaxChar  SectionMainChar  DirectoryEntryImport  \\\n",
       "count  ...    1.961100e+04          19611.0          19611.000000   \n",
       "mean   ...    3.163632e+09              0.0              6.112437   \n",
       "std    ...    5.860332e+08              0.0              7.525158   \n",
       "min    ...    1.073742e+09              0.0              0.000000   \n",
       "25%    ...    3.221226e+09              0.0              2.000000   \n",
       "50%    ...    3.221226e+09              0.0              4.000000   \n",
       "75%    ...    3.221226e+09              0.0              8.000000   \n",
       "max    ...    4.294967e+09              0.0            588.000000   \n",
       "\n",
       "       DirectoryEntryImportSize  DirectoryEntryExport  \\\n",
       "count              19611.000000          19611.000000   \n",
       "mean                 101.912804             14.131865   \n",
       "std                  127.076767            154.958102   \n",
       "min                    0.000000              0.000000   \n",
       "25%                   17.000000              0.000000   \n",
       "50%                   80.000000              0.000000   \n",
       "75%                  135.000000              0.000000   \n",
       "max                 4016.000000           7319.000000   \n",
       "\n",
       "       ImageDirectoryEntryExport  ImageDirectoryEntryImport  \\\n",
       "count               1.961100e+04               1.961100e+04   \n",
       "mean                3.368566e+05               4.047213e+05   \n",
       "std                 2.181191e+07               4.704601e+06   \n",
       "min                 0.000000e+00               0.000000e+00   \n",
       "25%                 0.000000e+00               2.960400e+04   \n",
       "50%                 0.000000e+00               8.222400e+04   \n",
       "75%                 0.000000e+00               2.477080e+05   \n",
       "max                 2.147484e+09               5.368914e+08   \n",
       "\n",
       "       ImageDirectoryEntryResource  ImageDirectoryEntryException  \\\n",
       "count                 1.961100e+04                  1.961100e+04   \n",
       "mean                  5.555810e+05                  1.238834e+06   \n",
       "std                   6.772167e+06                  5.868961e+07   \n",
       "min                   0.000000e+00                  0.000000e+00   \n",
       "25%                   4.096000e+04                  0.000000e+00   \n",
       "50%                   1.310720e+05                  0.000000e+00   \n",
       "75%                   3.870720e+05                  0.000000e+00   \n",
       "max                   8.304108e+08                  2.906159e+09   \n",
       "\n",
       "       ImageDirectoryEntrySecurity  \n",
       "count                 1.961100e+04  \n",
       "mean                  8.814868e+05  \n",
       "std                   2.167579e+07  \n",
       "min                   0.000000e+00  \n",
       "25%                   0.000000e+00  \n",
       "50%                   0.000000e+00  \n",
       "75%                   3.184640e+05  \n",
       "max                   2.415919e+09  \n",
       "\n",
       "[8 rows x 78 columns]"
      ]
     },
     "execution_count": 7,
     "metadata": {},
     "output_type": "execute_result"
    }
   ],
   "source": [
    "df.describe()"
   ]
  },
  {
   "cell_type": "code",
   "execution_count": 8,
   "metadata": {},
   "outputs": [
    {
     "data": {
      "image/png": "[encoded data removed]",
      "text/plain": [
       "<Figure size 640x480 with 1 Axes>"
      ]
     },
     "metadata": {},
     "output_type": "display_data"
    }
   ],
   "source": [
    "# Calculate counts of malware and non-malware\n",
    "malware_count = (df['Malware'] == 1).sum()  # Summing the 1s (which represent malware)\n",
    "non_malware_count = len(df) - malware_count  # Total count minus malware count\n",
    "\n",
    "# Bar chart\n",
    "categories = ['Non-Malware', 'Malware']\n",
    "counts = [non_malware_count, malware_count]\n",
    "\n",
    "plt.bar(categories, counts, color=['green', 'red'])\n",
    "plt.xlabel('File Type')\n",
    "plt.ylabel('Count')\n",
    "plt.title('Comparison of Malware and Non-Malware Files')\n",
    "plt.show()"
   ]
  },
  {
   "cell_type": "markdown",
   "metadata": {},
   "source": [
    "**DATA CLEANING**"
   ]
  },
  {
   "cell_type": "code",
   "execution_count": 9,
   "metadata": {},
   "outputs": [
    {
     "name": "stdout",
     "output_type": "stream",
     "text": [
      "The Name and Malware are remove successfully\n"
     ]
    }
   ],
   "source": [
    "y = df[\"Malware\"]\n",
    "x = df.drop(columns = [\"Malware\",\"Name\"])\n",
    "print(\"The Name and Malware are remove successfully\")\n",
    "#left this part for further works later"
   ]
  },
  {
   "cell_type": "markdown",
   "metadata": {},
   "source": [
    "# **Splitting the dataset into test set and train set**"
   ]
  },
  {
   "cell_type": "code",
   "execution_count": 10,
   "metadata": {},
   "outputs": [],
   "source": [
    "from sklearn.model_selection import train_test_split\n",
    "X_train, X_test, y_train, y_test = train_test_split(x,y,test_size = 0.2,random_state = 42)"
   ]
  },
  {
   "cell_type": "code",
   "execution_count": 11,
   "metadata": {},
   "outputs": [
    {
     "name": "stdout",
     "output_type": "stream",
     "text": [
      "The shape of training set is: 15688 samples, 77 features\n"
     ]
    }
   ],
   "source": [
    "# Information of training set\n",
    "print(\"The shape of training set is: %d samples, %d features\" % (X_train.shape[0], X_train.shape[1]))"
   ]
  },
  {
   "cell_type": "markdown",
   "metadata": {},
   "source": [
    "# **Model**"
   ]
  },
  {
   "cell_type": "markdown",
   "metadata": {},
   "source": [
    "**Random forest**"
   ]
  },
  {
   "cell_type": "code",
   "execution_count": 12,
   "metadata": {},
   "outputs": [],
   "source": [
    "from sklearn.ensemble import RandomForestClassifier\n",
    "clf = RandomForestClassifier(max_depth = 2, random_state = 0)\n",
    "randomModel = clf.fit(X_train,y_train)"
   ]
  },
  {
   "cell_type": "markdown",
   "metadata": {},
   "source": [
    "***Random forest Evaluation on test data***"
   ]
  },
  {
   "cell_type": "code",
   "execution_count": 14,
   "metadata": {},
   "outputs": [],
   "source": [
    "from sklearn.metrics import f1_score, accuracy_score, confusion_matrix"
   ]
  },
  {
   "cell_type": "code",
   "execution_count": 15,
   "metadata": {},
   "outputs": [
    {
     "data": {
      "text/plain": [
       "0.9464558898521163"
      ]
     },
     "execution_count": 15,
     "metadata": {},
     "output_type": "execute_result"
    }
   ],
   "source": [
    "#accuracy on the train dataset\n",
    "train_prediction = randomModel.predict(X_train)\n",
    "accuracy_score(y_train,train_prediction)"
   ]
  },
  {
   "cell_type": "code",
   "execution_count": 16,
   "metadata": {},
   "outputs": [
    {
     "data": {
      "text/plain": [
       "0.9487637012490441"
      ]
     },
     "execution_count": 16,
     "metadata": {},
     "output_type": "execute_result"
    }
   ],
   "source": [
    "#accuracy on the test dataset\n",
    "test_prediction = randomModel.predict(X_test)\n",
    "accuracy_score(y_test,test_prediction)"
   ]
  },
  {
   "cell_type": "code",
   "execution_count": 17,
   "metadata": {},
   "outputs": [
    {
     "data": {
      "text/plain": [
       "0.9668152550767707"
      ]
     },
     "execution_count": 17,
     "metadata": {},
     "output_type": "execute_result"
    }
   ],
   "source": [
    "f1_score(y_test,test_prediction)"
   ]
  },
  {
   "cell_type": "markdown",
   "metadata": {},
   "source": [
    "***Confusion matrix-Random forest model***"
   ]
  },
  {
   "cell_type": "code",
   "execution_count": 19,
   "metadata": {},
   "outputs": [
    {
     "data": {
      "image/png": "[encoded data removed]",
      "text/plain": [
       "<Figure size 640x480 with 2 Axes>"
      ]
     },
     "metadata": {},
     "output_type": "display_data"
    }
   ],
   "source": [
    "import matplotlib.pyplot as plt\n",
    "from sklearn.datasets import make_classification\n",
    "from sklearn.metrics import ConfusionMatrixDisplay\n",
    "from sklearn.model_selection import train_test_split\n",
    "from sklearn.svm import SVC\n",
    "\n",
    "cm_display = ConfusionMatrixDisplay.from_predictions(\n",
    "   y_test, test_prediction)\n",
    "cm_display.ax_.set_title('Confusion Matrix')\n",
    "plt.show()"
   ]
  },
  {
   "cell_type": "markdown",
   "metadata": {},
   "source": [
    "***Save model***"
   ]
  },
  {
   "cell_type": "code",
   "execution_count": 21,
   "metadata": {},
   "outputs": [
    {
     "data": {
      "text/plain": [
       "['random_forest_model.joblib']"
      ]
     },
     "execution_count": 21,
     "metadata": {},
     "output_type": "execute_result"
    }
   ],
   "source": [
    "from sklearn.ensemble import RandomForestClassifier\n",
    "from joblib import dump\n",
    "\n",
    "\n",
    "# Save the model to a file\n",
    "dump(randomModel, 'random_forest_model.joblib')\n"
   ]
  }
 ],
 "metadata": {
  "kernelspec": {
   "display_name": "venv",
   "language": "python",
   "name": "python3"
  },
  "language_info": {
   "codemirror_mode": {
    "name": "ipython",
    "version": 3
   },
   "file_extension": ".py",
   "mimetype": "text/x-python",
   "name": "python",
   "nbconvert_exporter": "python",
   "pygments_lexer": "ipython3",
   "version": "3.11.5"
  }
 },
 "nbformat": 4,
 "nbformat_minor": 2
}
