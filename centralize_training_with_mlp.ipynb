{
 "cells": [
  {
   "cell_type": "markdown",
   "metadata": {},
   "source": [
    "# **Import required library**"
   ]
  },
  {
   "cell_type": "code",
   "execution_count": 1,
   "metadata": {},
   "outputs": [],
   "source": [
    "import numpy as np\n",
    "import matplotlib.pyplot as plt\n",
    "import tensorflow as tf\n",
    "import pandas as pd\n",
    "from keras.models import Sequential\n",
    "from keras.layers import Dense, Dropout\n",
    "from keras.optimizers import Adam # type: ignore\n",
    "from sklearn.metrics import  accuracy_score"
   ]
  },
  {
   "cell_type": "markdown",
   "metadata": {},
   "source": [
    "# **Exploring the malware datasets**"
   ]
  },
  {
   "cell_type": "markdown",
   "metadata": {},
   "source": [
    "Malware dataset is collected on [Kaggle by this link](https://www.kaggle.com/datasets/amauricio/pe-files-malwares) :\n",
    "\n",
    "*   19611\n",
    "unique values\n",
    "*   6051 downloads and gain 135 downloads in the last 30 days\n",
    "*   Traning model we use record from 0->7900\n",
    "*   Also this dataset is mentioned in [paper](https://www.researchgate.net/publication/363847778_Impact_of_Portable_Executable_Header_Features_on_Malware_Detection_Accuracy#fullTextFileContent)"
   ]
  },
  {
   "cell_type": "code",
   "execution_count": 2,
   "metadata": {},
   "outputs": [],
   "source": [
    "#import neccessary packages\n",
    "import pandas as pd\n",
    "import matplotlib.pyplot as plt\n",
    "\n",
    "path = \"dataset/dataset_malwares_modified.csv\"\n",
    "df = pd.read_csv(path)\n",
    "df1 = pd.read_csv(\"./dataset/benign.csv\")\n",
    "df2 = pd.read_csv(\"./dataset/malware.csv\")"
   ]
  },
  {
   "cell_type": "code",
   "execution_count": 3,
   "metadata": {},
   "outputs": [
    {
     "name": "stdout",
     "output_type": "stream",
     "text": [
      "The shape of the dataset is: 19611 samples, 79 features\n",
      "Data for evaluating after federated_learning-Benign: df1 have 65 columns and 962 rows\n",
      "Data for evaluating after federated_learning- Malware: df2 have 65 columns anb 2018 rows\n"
     ]
    }
   ],
   "source": [
    "# Explore the shape of the dataset\n",
    "print(\"The shape of the dataset is: %d samples, %d features\" % (df.shape[0], df.shape[1]))\n",
    "print(f\"Data for evaluating after federated_learning-Benign: df1 have {df1.shape[1]} columns and {df1.shape[0]} rows\")\n",
    "print(f\"Data for evaluating after federated_learning- Malware: df2 have {df2.shape[1]} columns anb {df2.shape[0]} rows\")"
   ]
  },
  {
   "cell_type": "code",
   "execution_count": 4,
   "metadata": {},
   "outputs": [],
   "source": [
    "df1[\"Malware\"]=0\n",
    "df2[\"Malware\"]=1"
   ]
  },
  {
   "cell_type": "code",
   "execution_count": 5,
   "metadata": {},
   "outputs": [],
   "source": [
    "df_test = pd.concat([df1,df2])"
   ]
  },
  {
   "cell_type": "markdown",
   "metadata": {},
   "source": [
    "# Features selection"
   ]
  },
  {
   "cell_type": "markdown",
   "metadata": {},
   "source": [
    "* Detailed features selection explanation is provided in document\n",
    "* We decide to drop some features that is similar among the dataset.\n",
    "* We drop down some features that the existence of it does not affect the classification tasks such as LoaderFlags\n",
    "* Based on the previous works such as [Ember](https://arxiv.org/abs/1804.04637), [Feature selection for RL](https://ieeexplore.ieee.org/document/8920059), [Impact of Portable Executable Header Features on Malware Detection Accuracy](https://www.researchgate.net/publication/363847778_Impact_of_Portable_Executable_Header_Features_on_Malware_Detection_Accuracy#fullTextFileContent)"
   ]
  },
  {
   "cell_type": "code",
   "execution_count": 6,
   "metadata": {},
   "outputs": [
    {
     "data": {
      "text/plain": [
       "'\"DllCharacteristics\", \"MajorImageVersion\", \"MajorOperatingSystemVersion\", \\n\"SizeOfStackReserve\", \"AddressOfEntryPoint\", \"Characteristics\", \"SizeOfHeaders\", \\n\"SizeOfInitializedData\", \"SizeOfUninitializedData\", \"MajorSubsystemVersion\", \\n\"MinorSubsystemVersion\", \"CheckSum\", \"ImageBase\", \"MajorLinkerVersion\", \"NumberOfSections\", \\n\"Subsystem\", \"MinorImageVersion\", \"SizeOfStackCommit\", \"e_lfanew\", \"e_minalloc\", \"e_ovno\",\\n\"Machine\", \"PointerToSymbolTable\", \"NumberOfSymbols\", \"Magic\", \"SizeOfCode\", \"BaseOfCode\", \\n\"SectionAlignment\", \"FileAlignment\",\"Malware\"'"
      ]
     },
     "execution_count": 6,
     "metadata": {},
     "output_type": "execute_result"
    }
   ],
   "source": [
    "# This is column that is listed in \"Impact of Portble Executable Header Features on Malware Detection Accuracy\"\n",
    "#Now, let jump into further features reduction\n",
    "'''\"DllCharacteristics\", \"MajorImageVersion\", \"MajorOperatingSystemVersion\", \n",
    "\"SizeOfStackReserve\", \"AddressOfEntryPoint\", \"Characteristics\", \"SizeOfHeaders\", \n",
    "\"SizeOfInitializedData\", \"SizeOfUninitializedData\", \"MajorSubsystemVersion\", \n",
    "\"MinorSubsystemVersion\", \"CheckSum\", \"ImageBase\", \"MajorLinkerVersion\", \"NumberOfSections\", \n",
    "\"Subsystem\", \"MinorImageVersion\", \"SizeOfStackCommit\", \"e_lfanew\", \"e_minalloc\", \"e_ovno\",\n",
    "\"Machine\", \"PointerToSymbolTable\", \"NumberOfSymbols\", \"Magic\", \"SizeOfCode\", \"BaseOfCode\", \n",
    "\"SectionAlignment\", \"FileAlignment\",\"Malware\"'''"
   ]
  },
  {
   "cell_type": "code",
   "execution_count": 7,
   "metadata": {},
   "outputs": [],
   "source": [
    "suspicious_df = df[[\"MajorImageVersion\",\"MajorOperatingSystemVersion\",\"SizeOfHeaders\",\"SizeOfUninitializedData\", \"MajorSubsystemVersion\",\"MinorImageVersion\",\"SizeOfStackCommit\",\"Machine\",\"MinorImageVersion\",\"Magic\",\"SectionAlignment\",\"FileAlignment\",\"Malware\"]]"
   ]
  },
  {
   "cell_type": "code",
   "execution_count": 8,
   "metadata": {},
   "outputs": [
    {
     "data": {
      "text/plain": [
       "MajorImageVersion               53\n",
       "MajorOperatingSystemVersion     22\n",
       "SizeOfHeaders                   33\n",
       "SizeOfUninitializedData        328\n",
       "MajorSubsystemVersion            7\n",
       "MinorImageVersion              114\n",
       "SizeOfStackCommit               27\n",
       "Machine                          4\n",
       "MinorImageVersion              114\n",
       "Magic                            2\n",
       "SectionAlignment                 9\n",
       "FileAlignment                    8\n",
       "Malware                          2\n",
       "dtype: int64"
      ]
     },
     "execution_count": 8,
     "metadata": {},
     "output_type": "execute_result"
    }
   ],
   "source": [
    "#After got the unique value of univalue in this field\n",
    "#I can elimninate more features which have less than 10 unique values accross the field except malware label column\n",
    "#Keep the column which have more than 20 unique value cross the field\n",
    "suspicious_df.nunique()"
   ]
  },
  {
   "cell_type": "code",
   "execution_count": 9,
   "metadata": {},
   "outputs": [],
   "source": [
    "#\n",
    "selected_columns = [\"DllCharacteristics\", \"MajorImageVersion\", \"MajorOperatingSystemVersion\"\n",
    "                    ,\"SizeOfStackReserve\", \"AddressOfEntryPoint\"\n",
    "                    , \"Characteristics\", \"SizeOfHeaders\", \"SizeOfInitializedData\"\n",
    "                    , \"SizeOfUninitializedData\", \"MinorSubsystemVersion\", \"CheckSum\"\n",
    "                    , \"ImageBase\", \"MajorLinkerVersion\", \"NumberOfSections\", \n",
    "                    \"Subsystem\", \"MinorImageVersion\", \"SizeOfStackCommit\", \"e_lfanew\"\n",
    "                    , \"e_minalloc\", \"e_ovno\",\"PointerToSymbolTable\", \"NumberOfSymbols\"\n",
    "                    , \"SizeOfCode\", \"BaseOfCode\",\"Malware\"]"
   ]
  },
  {
   "cell_type": "code",
   "execution_count": 10,
   "metadata": {},
   "outputs": [],
   "source": [
    "#get record from 0 to 7900\n",
    "df = df[selected_columns].iloc[:7900,:]\n",
    "df_test = df_test[selected_columns]"
   ]
  },
  {
   "cell_type": "code",
   "execution_count": 11,
   "metadata": {},
   "outputs": [
    {
     "data": {
      "text/html": [
       "<div>\n",
       "<style scoped>\n",
       "    .dataframe tbody tr th:only-of-type {\n",
       "        vertical-align: middle;\n",
       "    }\n",
       "\n",
       "    .dataframe tbody tr th {\n",
       "        vertical-align: top;\n",
       "    }\n",
       "\n",
       "    .dataframe thead th {\n",
       "        text-align: right;\n",
       "    }\n",
       "</style>\n",
       "<table border=\"1\" class=\"dataframe\">\n",
       "  <thead>\n",
       "    <tr style=\"text-align: right;\">\n",
       "      <th></th>\n",
       "      <th>DllCharacteristics</th>\n",
       "      <th>MajorImageVersion</th>\n",
       "      <th>MajorOperatingSystemVersion</th>\n",
       "      <th>SizeOfStackReserve</th>\n",
       "      <th>AddressOfEntryPoint</th>\n",
       "      <th>Characteristics</th>\n",
       "      <th>SizeOfHeaders</th>\n",
       "      <th>SizeOfInitializedData</th>\n",
       "      <th>SizeOfUninitializedData</th>\n",
       "      <th>MinorSubsystemVersion</th>\n",
       "      <th>...</th>\n",
       "      <th>MinorImageVersion</th>\n",
       "      <th>SizeOfStackCommit</th>\n",
       "      <th>e_lfanew</th>\n",
       "      <th>e_minalloc</th>\n",
       "      <th>e_ovno</th>\n",
       "      <th>PointerToSymbolTable</th>\n",
       "      <th>NumberOfSymbols</th>\n",
       "      <th>SizeOfCode</th>\n",
       "      <th>BaseOfCode</th>\n",
       "      <th>Malware</th>\n",
       "    </tr>\n",
       "  </thead>\n",
       "  <tbody>\n",
       "    <tr>\n",
       "      <th>count</th>\n",
       "      <td>7900.00</td>\n",
       "      <td>7900.00</td>\n",
       "      <td>7900.00</td>\n",
       "      <td>7900.00</td>\n",
       "      <td>7.900000e+03</td>\n",
       "      <td>7900.00</td>\n",
       "      <td>7900.00</td>\n",
       "      <td>7.900000e+03</td>\n",
       "      <td>7.900000e+03</td>\n",
       "      <td>7900.00</td>\n",
       "      <td>...</td>\n",
       "      <td>7900.00</td>\n",
       "      <td>7900.00</td>\n",
       "      <td>7900.00</td>\n",
       "      <td>7900.00</td>\n",
       "      <td>7900.00</td>\n",
       "      <td>7.900000e+03</td>\n",
       "      <td>7.900000e+03</td>\n",
       "      <td>7.900000e+03</td>\n",
       "      <td>7.900000e+03</td>\n",
       "      <td>7900.00</td>\n",
       "    </tr>\n",
       "    <tr>\n",
       "      <th>mean</th>\n",
       "      <td>17622.94</td>\n",
       "      <td>33.52</td>\n",
       "      <td>16.95</td>\n",
       "      <td>1017777.34</td>\n",
       "      <td>7.538498e+06</td>\n",
       "      <td>5687.45</td>\n",
       "      <td>1775.85</td>\n",
       "      <td>1.260722e+06</td>\n",
       "      <td>5.861270e+04</td>\n",
       "      <td>9.12</td>\n",
       "      <td>...</td>\n",
       "      <td>29.05</td>\n",
       "      <td>8157.78</td>\n",
       "      <td>219.94</td>\n",
       "      <td>42.03</td>\n",
       "      <td>89.95</td>\n",
       "      <td>6.478092e+06</td>\n",
       "      <td>7.527748e+06</td>\n",
       "      <td>1.074734e+06</td>\n",
       "      <td>7.997666e+05</td>\n",
       "      <td>0.70</td>\n",
       "    </tr>\n",
       "    <tr>\n",
       "      <th>std</th>\n",
       "      <td>16431.37</td>\n",
       "      <td>971.82</td>\n",
       "      <td>720.84</td>\n",
       "      <td>1260402.88</td>\n",
       "      <td>1.107157e+08</td>\n",
       "      <td>9299.27</td>\n",
       "      <td>16763.06</td>\n",
       "      <td>3.967259e+07</td>\n",
       "      <td>1.484993e+06</td>\n",
       "      <td>734.45</td>\n",
       "      <td>...</td>\n",
       "      <td>929.56</td>\n",
       "      <td>105582.65</td>\n",
       "      <td>66.90</td>\n",
       "      <td>971.83</td>\n",
       "      <td>1643.00</td>\n",
       "      <td>1.297177e+08</td>\n",
       "      <td>1.239370e+08</td>\n",
       "      <td>3.732871e+07</td>\n",
       "      <td>4.622788e+07</td>\n",
       "      <td>0.46</td>\n",
       "    </tr>\n",
       "    <tr>\n",
       "      <th>min</th>\n",
       "      <td>0.00</td>\n",
       "      <td>0.00</td>\n",
       "      <td>0.00</td>\n",
       "      <td>0.00</td>\n",
       "      <td>0.000000e+00</td>\n",
       "      <td>2.00</td>\n",
       "      <td>504.00</td>\n",
       "      <td>0.000000e+00</td>\n",
       "      <td>0.000000e+00</td>\n",
       "      <td>0.00</td>\n",
       "      <td>...</td>\n",
       "      <td>0.00</td>\n",
       "      <td>0.00</td>\n",
       "      <td>12.00</td>\n",
       "      <td>0.00</td>\n",
       "      <td>0.00</td>\n",
       "      <td>0.000000e+00</td>\n",
       "      <td>0.000000e+00</td>\n",
       "      <td>0.000000e+00</td>\n",
       "      <td>0.000000e+00</td>\n",
       "      <td>0.00</td>\n",
       "    </tr>\n",
       "    <tr>\n",
       "      <th>25%</th>\n",
       "      <td>1.00</td>\n",
       "      <td>0.00</td>\n",
       "      <td>4.00</td>\n",
       "      <td>524288.00</td>\n",
       "      <td>7.692000e+03</td>\n",
       "      <td>258.00</td>\n",
       "      <td>1024.00</td>\n",
       "      <td>1.280000e+04</td>\n",
       "      <td>0.000000e+00</td>\n",
       "      <td>0.00</td>\n",
       "      <td>...</td>\n",
       "      <td>0.00</td>\n",
       "      <td>4096.00</td>\n",
       "      <td>208.00</td>\n",
       "      <td>0.00</td>\n",
       "      <td>0.00</td>\n",
       "      <td>0.000000e+00</td>\n",
       "      <td>0.000000e+00</td>\n",
       "      <td>1.894400e+04</td>\n",
       "      <td>4.096000e+03</td>\n",
       "      <td>0.00</td>\n",
       "    </tr>\n",
       "    <tr>\n",
       "      <th>50%</th>\n",
       "      <td>32768.00</td>\n",
       "      <td>1.00</td>\n",
       "      <td>5.00</td>\n",
       "      <td>1048576.00</td>\n",
       "      <td>3.019900e+04</td>\n",
       "      <td>271.00</td>\n",
       "      <td>1024.00</td>\n",
       "      <td>5.273600e+04</td>\n",
       "      <td>0.000000e+00</td>\n",
       "      <td>0.00</td>\n",
       "      <td>...</td>\n",
       "      <td>0.00</td>\n",
       "      <td>4096.00</td>\n",
       "      <td>232.00</td>\n",
       "      <td>0.00</td>\n",
       "      <td>0.00</td>\n",
       "      <td>0.000000e+00</td>\n",
       "      <td>0.000000e+00</td>\n",
       "      <td>5.529600e+04</td>\n",
       "      <td>4.096000e+03</td>\n",
       "      <td>1.00</td>\n",
       "    </tr>\n",
       "    <tr>\n",
       "      <th>75%</th>\n",
       "      <td>33088.00</td>\n",
       "      <td>6.00</td>\n",
       "      <td>6.00</td>\n",
       "      <td>1048576.00</td>\n",
       "      <td>9.741875e+04</td>\n",
       "      <td>8450.00</td>\n",
       "      <td>1024.00</td>\n",
       "      <td>3.062220e+05</td>\n",
       "      <td>0.000000e+00</td>\n",
       "      <td>1.00</td>\n",
       "      <td>...</td>\n",
       "      <td>1.00</td>\n",
       "      <td>4096.00</td>\n",
       "      <td>248.00</td>\n",
       "      <td>0.00</td>\n",
       "      <td>0.00</td>\n",
       "      <td>0.000000e+00</td>\n",
       "      <td>0.000000e+00</td>\n",
       "      <td>1.520640e+05</td>\n",
       "      <td>4.096000e+03</td>\n",
       "      <td>1.00</td>\n",
       "    </tr>\n",
       "    <tr>\n",
       "      <th>max</th>\n",
       "      <td>57379.00</td>\n",
       "      <td>58717.00</td>\n",
       "      <td>56064.00</td>\n",
       "      <td>33554432.00</td>\n",
       "      <td>3.221546e+09</td>\n",
       "      <td>41358.00</td>\n",
       "      <td>1093632.00</td>\n",
       "      <td>1.918989e+09</td>\n",
       "      <td>1.269294e+08</td>\n",
       "      <td>65280.00</td>\n",
       "      <td>...</td>\n",
       "      <td>54891.00</td>\n",
       "      <td>8192000.00</td>\n",
       "      <td>3440.00</td>\n",
       "      <td>43690.00</td>\n",
       "      <td>59648.00</td>\n",
       "      <td>4.283477e+09</td>\n",
       "      <td>3.869858e+09</td>\n",
       "      <td>1.766614e+09</td>\n",
       "      <td>3.367012e+09</td>\n",
       "      <td>1.00</td>\n",
       "    </tr>\n",
       "  </tbody>\n",
       "</table>\n",
       "<p>8 rows × 25 columns</p>\n",
       "</div>"
      ],
      "text/plain": [
       "       DllCharacteristics  MajorImageVersion  MajorOperatingSystemVersion  \\\n",
       "count             7900.00            7900.00                      7900.00   \n",
       "mean             17622.94              33.52                        16.95   \n",
       "std              16431.37             971.82                       720.84   \n",
       "min                  0.00               0.00                         0.00   \n",
       "25%                  1.00               0.00                         4.00   \n",
       "50%              32768.00               1.00                         5.00   \n",
       "75%              33088.00               6.00                         6.00   \n",
       "max              57379.00           58717.00                     56064.00   \n",
       "\n",
       "       SizeOfStackReserve  AddressOfEntryPoint  Characteristics  \\\n",
       "count             7900.00         7.900000e+03          7900.00   \n",
       "mean           1017777.34         7.538498e+06          5687.45   \n",
       "std            1260402.88         1.107157e+08          9299.27   \n",
       "min                  0.00         0.000000e+00             2.00   \n",
       "25%             524288.00         7.692000e+03           258.00   \n",
       "50%            1048576.00         3.019900e+04           271.00   \n",
       "75%            1048576.00         9.741875e+04          8450.00   \n",
       "max           33554432.00         3.221546e+09         41358.00   \n",
       "\n",
       "       SizeOfHeaders  SizeOfInitializedData  SizeOfUninitializedData  \\\n",
       "count        7900.00           7.900000e+03             7.900000e+03   \n",
       "mean         1775.85           1.260722e+06             5.861270e+04   \n",
       "std         16763.06           3.967259e+07             1.484993e+06   \n",
       "min           504.00           0.000000e+00             0.000000e+00   \n",
       "25%          1024.00           1.280000e+04             0.000000e+00   \n",
       "50%          1024.00           5.273600e+04             0.000000e+00   \n",
       "75%          1024.00           3.062220e+05             0.000000e+00   \n",
       "max       1093632.00           1.918989e+09             1.269294e+08   \n",
       "\n",
       "       MinorSubsystemVersion  ...  MinorImageVersion  SizeOfStackCommit  \\\n",
       "count                7900.00  ...            7900.00            7900.00   \n",
       "mean                    9.12  ...              29.05            8157.78   \n",
       "std                   734.45  ...             929.56          105582.65   \n",
       "min                     0.00  ...               0.00               0.00   \n",
       "25%                     0.00  ...               0.00            4096.00   \n",
       "50%                     0.00  ...               0.00            4096.00   \n",
       "75%                     1.00  ...               1.00            4096.00   \n",
       "max                 65280.00  ...           54891.00         8192000.00   \n",
       "\n",
       "       e_lfanew  e_minalloc    e_ovno  PointerToSymbolTable  NumberOfSymbols  \\\n",
       "count   7900.00     7900.00   7900.00          7.900000e+03     7.900000e+03   \n",
       "mean     219.94       42.03     89.95          6.478092e+06     7.527748e+06   \n",
       "std       66.90      971.83   1643.00          1.297177e+08     1.239370e+08   \n",
       "min       12.00        0.00      0.00          0.000000e+00     0.000000e+00   \n",
       "25%      208.00        0.00      0.00          0.000000e+00     0.000000e+00   \n",
       "50%      232.00        0.00      0.00          0.000000e+00     0.000000e+00   \n",
       "75%      248.00        0.00      0.00          0.000000e+00     0.000000e+00   \n",
       "max     3440.00    43690.00  59648.00          4.283477e+09     3.869858e+09   \n",
       "\n",
       "         SizeOfCode    BaseOfCode  Malware  \n",
       "count  7.900000e+03  7.900000e+03  7900.00  \n",
       "mean   1.074734e+06  7.997666e+05     0.70  \n",
       "std    3.732871e+07  4.622788e+07     0.46  \n",
       "min    0.000000e+00  0.000000e+00     0.00  \n",
       "25%    1.894400e+04  4.096000e+03     0.00  \n",
       "50%    5.529600e+04  4.096000e+03     1.00  \n",
       "75%    1.520640e+05  4.096000e+03     1.00  \n",
       "max    1.766614e+09  3.367012e+09     1.00  \n",
       "\n",
       "[8 rows x 25 columns]"
      ]
     },
     "execution_count": 11,
     "metadata": {},
     "output_type": "execute_result"
    }
   ],
   "source": [
    "df.describe().round(2)"
   ]
  },
  {
   "cell_type": "markdown",
   "metadata": {},
   "source": [
    "# Features Scaling"
   ]
  },
  {
   "cell_type": "code",
   "execution_count": 12,
   "metadata": {},
   "outputs": [],
   "source": [
    "from sklearn.preprocessing import MinMaxScaler\n",
    "scaler = MinMaxScaler()"
   ]
  },
  {
   "cell_type": "code",
   "execution_count": 13,
   "metadata": {},
   "outputs": [],
   "source": [
    "features = df.drop(columns=[\"Malware\"])\n",
    "label = df['Malware']"
   ]
  },
  {
   "cell_type": "code",
   "execution_count": 14,
   "metadata": {},
   "outputs": [],
   "source": [
    "features_test = df_test.drop(columns=[\"Malware\"])\n",
    "label_test = df['Malware']"
   ]
  },
  {
   "cell_type": "code",
   "execution_count": 15,
   "metadata": {},
   "outputs": [],
   "source": [
    "scaled_features = scaler.fit_transform(features)\n",
    "scaled_features_test = scaler.fit_transform(features_test)"
   ]
  },
  {
   "cell_type": "code",
   "execution_count": 16,
   "metadata": {},
   "outputs": [],
   "source": [
    "# Create a DataFrame with the scaled features\n",
    "scaled_features_df = pd.DataFrame(scaled_features, columns=features.columns)\n",
    "df = pd.concat([scaled_features_df, label.reset_index(drop=True)], axis=1)\n",
    "# Create a DataFrame with the scaled features\n",
    "scaled_features_df_test = pd.DataFrame(scaled_features_test, columns=features_test.columns)\n",
    "df_test = pd.concat([scaled_features_df_test, label.reset_index(drop=True)], axis=1)"
   ]
  },
  {
   "cell_type": "code",
   "execution_count": 17,
   "metadata": {},
   "outputs": [
    {
     "data": {
      "text/html": [
       "<div>\n",
       "<style scoped>\n",
       "    .dataframe tbody tr th:only-of-type {\n",
       "        vertical-align: middle;\n",
       "    }\n",
       "\n",
       "    .dataframe tbody tr th {\n",
       "        vertical-align: top;\n",
       "    }\n",
       "\n",
       "    .dataframe thead th {\n",
       "        text-align: right;\n",
       "    }\n",
       "</style>\n",
       "<table border=\"1\" class=\"dataframe\">\n",
       "  <thead>\n",
       "    <tr style=\"text-align: right;\">\n",
       "      <th></th>\n",
       "      <th>DllCharacteristics</th>\n",
       "      <th>MajorImageVersion</th>\n",
       "      <th>MajorOperatingSystemVersion</th>\n",
       "      <th>SizeOfStackReserve</th>\n",
       "      <th>AddressOfEntryPoint</th>\n",
       "      <th>Characteristics</th>\n",
       "      <th>SizeOfHeaders</th>\n",
       "      <th>SizeOfInitializedData</th>\n",
       "      <th>SizeOfUninitializedData</th>\n",
       "      <th>MinorSubsystemVersion</th>\n",
       "      <th>...</th>\n",
       "      <th>MinorImageVersion</th>\n",
       "      <th>SizeOfStackCommit</th>\n",
       "      <th>e_lfanew</th>\n",
       "      <th>e_minalloc</th>\n",
       "      <th>e_ovno</th>\n",
       "      <th>PointerToSymbolTable</th>\n",
       "      <th>NumberOfSymbols</th>\n",
       "      <th>SizeOfCode</th>\n",
       "      <th>BaseOfCode</th>\n",
       "      <th>Malware</th>\n",
       "    </tr>\n",
       "  </thead>\n",
       "  <tbody>\n",
       "    <tr>\n",
       "      <th>count</th>\n",
       "      <td>7900.00</td>\n",
       "      <td>7900.00</td>\n",
       "      <td>7900.00</td>\n",
       "      <td>7900.00</td>\n",
       "      <td>7900.00</td>\n",
       "      <td>7900.00</td>\n",
       "      <td>7900.00</td>\n",
       "      <td>7900.00</td>\n",
       "      <td>7900.00</td>\n",
       "      <td>7900.00</td>\n",
       "      <td>...</td>\n",
       "      <td>7900.00</td>\n",
       "      <td>7900.00</td>\n",
       "      <td>7900.00</td>\n",
       "      <td>7900.00</td>\n",
       "      <td>7900.00</td>\n",
       "      <td>7900.00</td>\n",
       "      <td>7900.00</td>\n",
       "      <td>7900.00</td>\n",
       "      <td>7900.00</td>\n",
       "      <td>7900.00</td>\n",
       "    </tr>\n",
       "    <tr>\n",
       "      <th>mean</th>\n",
       "      <td>0.31</td>\n",
       "      <td>0.00</td>\n",
       "      <td>0.00</td>\n",
       "      <td>0.03</td>\n",
       "      <td>0.00</td>\n",
       "      <td>0.14</td>\n",
       "      <td>0.00</td>\n",
       "      <td>0.00</td>\n",
       "      <td>0.00</td>\n",
       "      <td>0.00</td>\n",
       "      <td>...</td>\n",
       "      <td>0.00</td>\n",
       "      <td>0.00</td>\n",
       "      <td>0.06</td>\n",
       "      <td>0.00</td>\n",
       "      <td>0.00</td>\n",
       "      <td>0.00</td>\n",
       "      <td>0.00</td>\n",
       "      <td>0.00</td>\n",
       "      <td>0.00</td>\n",
       "      <td>0.70</td>\n",
       "    </tr>\n",
       "    <tr>\n",
       "      <th>std</th>\n",
       "      <td>0.29</td>\n",
       "      <td>0.02</td>\n",
       "      <td>0.01</td>\n",
       "      <td>0.04</td>\n",
       "      <td>0.03</td>\n",
       "      <td>0.22</td>\n",
       "      <td>0.02</td>\n",
       "      <td>0.02</td>\n",
       "      <td>0.01</td>\n",
       "      <td>0.01</td>\n",
       "      <td>...</td>\n",
       "      <td>0.02</td>\n",
       "      <td>0.01</td>\n",
       "      <td>0.02</td>\n",
       "      <td>0.02</td>\n",
       "      <td>0.03</td>\n",
       "      <td>0.03</td>\n",
       "      <td>0.03</td>\n",
       "      <td>0.02</td>\n",
       "      <td>0.01</td>\n",
       "      <td>0.46</td>\n",
       "    </tr>\n",
       "    <tr>\n",
       "      <th>min</th>\n",
       "      <td>0.00</td>\n",
       "      <td>0.00</td>\n",
       "      <td>0.00</td>\n",
       "      <td>0.00</td>\n",
       "      <td>0.00</td>\n",
       "      <td>0.00</td>\n",
       "      <td>0.00</td>\n",
       "      <td>0.00</td>\n",
       "      <td>0.00</td>\n",
       "      <td>0.00</td>\n",
       "      <td>...</td>\n",
       "      <td>0.00</td>\n",
       "      <td>0.00</td>\n",
       "      <td>0.00</td>\n",
       "      <td>0.00</td>\n",
       "      <td>0.00</td>\n",
       "      <td>0.00</td>\n",
       "      <td>0.00</td>\n",
       "      <td>0.00</td>\n",
       "      <td>0.00</td>\n",
       "      <td>0.00</td>\n",
       "    </tr>\n",
       "    <tr>\n",
       "      <th>25%</th>\n",
       "      <td>0.00</td>\n",
       "      <td>0.00</td>\n",
       "      <td>0.00</td>\n",
       "      <td>0.02</td>\n",
       "      <td>0.00</td>\n",
       "      <td>0.01</td>\n",
       "      <td>0.00</td>\n",
       "      <td>0.00</td>\n",
       "      <td>0.00</td>\n",
       "      <td>0.00</td>\n",
       "      <td>...</td>\n",
       "      <td>0.00</td>\n",
       "      <td>0.00</td>\n",
       "      <td>0.06</td>\n",
       "      <td>0.00</td>\n",
       "      <td>0.00</td>\n",
       "      <td>0.00</td>\n",
       "      <td>0.00</td>\n",
       "      <td>0.00</td>\n",
       "      <td>0.00</td>\n",
       "      <td>0.00</td>\n",
       "    </tr>\n",
       "    <tr>\n",
       "      <th>50%</th>\n",
       "      <td>0.57</td>\n",
       "      <td>0.00</td>\n",
       "      <td>0.00</td>\n",
       "      <td>0.03</td>\n",
       "      <td>0.00</td>\n",
       "      <td>0.01</td>\n",
       "      <td>0.00</td>\n",
       "      <td>0.00</td>\n",
       "      <td>0.00</td>\n",
       "      <td>0.00</td>\n",
       "      <td>...</td>\n",
       "      <td>0.00</td>\n",
       "      <td>0.00</td>\n",
       "      <td>0.06</td>\n",
       "      <td>0.00</td>\n",
       "      <td>0.00</td>\n",
       "      <td>0.00</td>\n",
       "      <td>0.00</td>\n",
       "      <td>0.00</td>\n",
       "      <td>0.00</td>\n",
       "      <td>1.00</td>\n",
       "    </tr>\n",
       "    <tr>\n",
       "      <th>75%</th>\n",
       "      <td>0.58</td>\n",
       "      <td>0.00</td>\n",
       "      <td>0.00</td>\n",
       "      <td>0.03</td>\n",
       "      <td>0.00</td>\n",
       "      <td>0.20</td>\n",
       "      <td>0.00</td>\n",
       "      <td>0.00</td>\n",
       "      <td>0.00</td>\n",
       "      <td>0.00</td>\n",
       "      <td>...</td>\n",
       "      <td>0.00</td>\n",
       "      <td>0.00</td>\n",
       "      <td>0.07</td>\n",
       "      <td>0.00</td>\n",
       "      <td>0.00</td>\n",
       "      <td>0.00</td>\n",
       "      <td>0.00</td>\n",
       "      <td>0.00</td>\n",
       "      <td>0.00</td>\n",
       "      <td>1.00</td>\n",
       "    </tr>\n",
       "    <tr>\n",
       "      <th>max</th>\n",
       "      <td>1.00</td>\n",
       "      <td>1.00</td>\n",
       "      <td>1.00</td>\n",
       "      <td>1.00</td>\n",
       "      <td>1.00</td>\n",
       "      <td>1.00</td>\n",
       "      <td>1.00</td>\n",
       "      <td>1.00</td>\n",
       "      <td>1.00</td>\n",
       "      <td>1.00</td>\n",
       "      <td>...</td>\n",
       "      <td>1.00</td>\n",
       "      <td>1.00</td>\n",
       "      <td>1.00</td>\n",
       "      <td>1.00</td>\n",
       "      <td>1.00</td>\n",
       "      <td>1.00</td>\n",
       "      <td>1.00</td>\n",
       "      <td>1.00</td>\n",
       "      <td>1.00</td>\n",
       "      <td>1.00</td>\n",
       "    </tr>\n",
       "  </tbody>\n",
       "</table>\n",
       "<p>8 rows × 25 columns</p>\n",
       "</div>"
      ],
      "text/plain": [
       "       DllCharacteristics  MajorImageVersion  MajorOperatingSystemVersion  \\\n",
       "count             7900.00            7900.00                      7900.00   \n",
       "mean                 0.31               0.00                         0.00   \n",
       "std                  0.29               0.02                         0.01   \n",
       "min                  0.00               0.00                         0.00   \n",
       "25%                  0.00               0.00                         0.00   \n",
       "50%                  0.57               0.00                         0.00   \n",
       "75%                  0.58               0.00                         0.00   \n",
       "max                  1.00               1.00                         1.00   \n",
       "\n",
       "       SizeOfStackReserve  AddressOfEntryPoint  Characteristics  \\\n",
       "count             7900.00              7900.00          7900.00   \n",
       "mean                 0.03                 0.00             0.14   \n",
       "std                  0.04                 0.03             0.22   \n",
       "min                  0.00                 0.00             0.00   \n",
       "25%                  0.02                 0.00             0.01   \n",
       "50%                  0.03                 0.00             0.01   \n",
       "75%                  0.03                 0.00             0.20   \n",
       "max                  1.00                 1.00             1.00   \n",
       "\n",
       "       SizeOfHeaders  SizeOfInitializedData  SizeOfUninitializedData  \\\n",
       "count        7900.00                7900.00                  7900.00   \n",
       "mean            0.00                   0.00                     0.00   \n",
       "std             0.02                   0.02                     0.01   \n",
       "min             0.00                   0.00                     0.00   \n",
       "25%             0.00                   0.00                     0.00   \n",
       "50%             0.00                   0.00                     0.00   \n",
       "75%             0.00                   0.00                     0.00   \n",
       "max             1.00                   1.00                     1.00   \n",
       "\n",
       "       MinorSubsystemVersion  ...  MinorImageVersion  SizeOfStackCommit  \\\n",
       "count                7900.00  ...            7900.00            7900.00   \n",
       "mean                    0.00  ...               0.00               0.00   \n",
       "std                     0.01  ...               0.02               0.01   \n",
       "min                     0.00  ...               0.00               0.00   \n",
       "25%                     0.00  ...               0.00               0.00   \n",
       "50%                     0.00  ...               0.00               0.00   \n",
       "75%                     0.00  ...               0.00               0.00   \n",
       "max                     1.00  ...               1.00               1.00   \n",
       "\n",
       "       e_lfanew  e_minalloc   e_ovno  PointerToSymbolTable  NumberOfSymbols  \\\n",
       "count   7900.00     7900.00  7900.00               7900.00          7900.00   \n",
       "mean       0.06        0.00     0.00                  0.00             0.00   \n",
       "std        0.02        0.02     0.03                  0.03             0.03   \n",
       "min        0.00        0.00     0.00                  0.00             0.00   \n",
       "25%        0.06        0.00     0.00                  0.00             0.00   \n",
       "50%        0.06        0.00     0.00                  0.00             0.00   \n",
       "75%        0.07        0.00     0.00                  0.00             0.00   \n",
       "max        1.00        1.00     1.00                  1.00             1.00   \n",
       "\n",
       "       SizeOfCode  BaseOfCode  Malware  \n",
       "count     7900.00     7900.00  7900.00  \n",
       "mean         0.00        0.00     0.70  \n",
       "std          0.02        0.01     0.46  \n",
       "min          0.00        0.00     0.00  \n",
       "25%          0.00        0.00     0.00  \n",
       "50%          0.00        0.00     1.00  \n",
       "75%          0.00        0.00     1.00  \n",
       "max          1.00        1.00     1.00  \n",
       "\n",
       "[8 rows x 25 columns]"
      ]
     },
     "execution_count": 17,
     "metadata": {},
     "output_type": "execute_result"
    }
   ],
   "source": [
    "df.describe().round(2)"
   ]
  },
  {
   "cell_type": "code",
   "execution_count": 18,
   "metadata": {},
   "outputs": [],
   "source": [
    "y = df[\"Malware\"]\n",
    "x = df.drop(columns = [\"Malware\"])"
   ]
  },
  {
   "cell_type": "code",
   "execution_count": 19,
   "metadata": {},
   "outputs": [
    {
     "data": {
      "text/plain": [
       "Malware\n",
       "1    5498\n",
       "0    2402\n",
       "Name: count, dtype: int64"
      ]
     },
     "execution_count": 19,
     "metadata": {},
     "output_type": "execute_result"
    }
   ],
   "source": [
    "y.value_counts()"
   ]
  },
  {
   "cell_type": "markdown",
   "metadata": {},
   "source": [
    "# **Splitting the dataset into test set and train set**"
   ]
  },
  {
   "cell_type": "code",
   "execution_count": 20,
   "metadata": {},
   "outputs": [],
   "source": [
    "from sklearn.model_selection import train_test_split\n",
    "X_train, X_test, y_train, y_test = train_test_split(x,y,test_size = 0.2,random_state = 42)"
   ]
  },
  {
   "cell_type": "code",
   "execution_count": 21,
   "metadata": {},
   "outputs": [
    {
     "data": {
      "text/plain": [
       "Malware\n",
       "1    4401\n",
       "0    1919\n",
       "Name: count, dtype: int64"
      ]
     },
     "execution_count": 21,
     "metadata": {},
     "output_type": "execute_result"
    }
   ],
   "source": [
    "y_train.value_counts()"
   ]
  },
  {
   "cell_type": "code",
   "execution_count": 22,
   "metadata": {},
   "outputs": [
    {
     "data": {
      "image/png": "[encoded data removed]",
      "text/plain": [
       "<Figure size 640x480 with 1 Axes>"
      ]
     },
     "metadata": {},
     "output_type": "display_data"
    }
   ],
   "source": [
    "# Calculate counts of malware and non-malware\n",
    "malware_count =  sum(value for value in y_train if value == 1) # Summing the 1s (which represent malware)\n",
    "non_malware_count = len(y_train) - malware_count  # Total count minus malware count\n",
    "\n",
    "# Bar chart\n",
    "categories = ['Non-Malware', 'Malware']\n",
    "counts = [non_malware_count, malware_count]\n",
    "\n",
    "plt.bar(categories, counts, color=['green', 'red'])\n",
    "plt.xlabel('File Type')\n",
    "plt.ylabel('Count')\n",
    "plt.title('Comparison of Malware and Non-Malware Files')\n",
    "plt.show()\n",
    "#after plotting the grapth we can see that the data is imbalanced it might cause some\n",
    "#problems to the model as well"
   ]
  },
  {
   "cell_type": "markdown",
   "metadata": {},
   "source": [
    "***Deal with imbalanced data***\n",
    "* Reference: [Deal with imbalanced data](https://towardsdatascience.com/how-to-deal-with-imbalanced-data-34ab7db9b100) "
   ]
  },
  {
   "cell_type": "code",
   "execution_count": 23,
   "metadata": {},
   "outputs": [],
   "source": [
    "# import necessary libs\n",
    "from sklearn.utils import resample"
   ]
  },
  {
   "cell_type": "code",
   "execution_count": 24,
   "metadata": {},
   "outputs": [
    {
     "data": {
      "text/plain": [
       "Malware\n",
       "0    1919\n",
       "1    1919\n",
       "Name: count, dtype: int64"
      ]
     },
     "execution_count": 24,
     "metadata": {},
     "output_type": "execute_result"
    }
   ],
   "source": [
    "from sklearn.utils import resample\n",
    "\n",
    "\n",
    "# concatenate our training data back together\n",
    "df = pd.concat([X_train, y_train], axis=1)\n",
    "\n",
    "# Separate majority and minority classes\n",
    "# Separate majority and minority classes\n",
    "df_majority = df[df.Malware==0]\n",
    "df_minority = df[df.Malware==1]\n",
    "\n",
    "# Upsample minority class\n",
    "df_minority_upsampled = resample(df_minority, \n",
    "                                 replace=True,     # sample with replacement\n",
    "                                 n_samples=len(df_majority),    # to match majority class\n",
    "                                 random_state=1234) # reproducible results\n",
    " \n",
    "# Combine majority class with upsampled minority class\n",
    "df_upsampled = pd.concat([df_majority, df_minority_upsampled])\n",
    " \n",
    "# Display new class counts\n",
    "df_upsampled.Malware.value_counts()"
   ]
  },
  {
   "cell_type": "code",
   "execution_count": 25,
   "metadata": {},
   "outputs": [
    {
     "name": "stdout",
     "output_type": "stream",
     "text": [
      "The Malware are remove successfully\n"
     ]
    }
   ],
   "source": [
    "y_train_v1 = df_upsampled[\"Malware\"]\n",
    "x_train_v1 = df_upsampled.drop(columns = [\"Malware\"])\n",
    "print(\"The Malware are remove successfully\")"
   ]
  },
  {
   "cell_type": "code",
   "execution_count": 26,
   "metadata": {},
   "outputs": [
    {
     "data": {
      "text/plain": [
       "Malware\n",
       "0    1919\n",
       "1    1919\n",
       "Name: count, dtype: int64"
      ]
     },
     "execution_count": 26,
     "metadata": {},
     "output_type": "execute_result"
    }
   ],
   "source": [
    "#test value of y_train after downscale\n",
    "y_train_v1.value_counts()"
   ]
  },
  {
   "cell_type": "code",
   "execution_count": 27,
   "metadata": {},
   "outputs": [
    {
     "data": {
      "text/plain": [
       "(3838, 24)"
      ]
     },
     "execution_count": 27,
     "metadata": {},
     "output_type": "execute_result"
    }
   ],
   "source": [
    "x_train_v1.shape"
   ]
  },
  {
   "cell_type": "markdown",
   "metadata": {},
   "source": [
    "# **Train Model with resampling data**"
   ]
  },
  {
   "cell_type": "code",
   "execution_count": 28,
   "metadata": {},
   "outputs": [
    {
     "name": "stderr",
     "output_type": "stream",
     "text": [
      "d:\\Federated_Learning\\venv\\Lib\\site-packages\\keras\\src\\layers\\core\\dense.py:88: UserWarning: Do not pass an `input_shape`/`input_dim` argument to a layer. When using Sequential models, prefer using an `Input(shape)` object as the first layer in the model instead.\n",
      "  super().__init__(activity_regularizer=activity_regularizer, **kwargs)\n"
     ]
    }
   ],
   "source": [
    "\n",
    "r_model = Sequential()\n",
    "r_model.add(Dense(24, input_shape=(24,))) # Increase neurons\n",
    "r_model.add(Dense(16, activation='relu'))  # Add more layers\n",
    "r_model.add(Dropout(0.3))\n",
    "r_model.add(Dense(16, activation='relu'))  # Add more layers\n",
    "r_model.add(Dense(1, activation='sigmoid'))\n",
    "\n",
    "optimizer = Adam(learning_rate=0.0015)  # Set learning rate sdirectly\n",
    "r_model.compile(loss='binary_crossentropy',\n",
    "              optimizer=optimizer,\n",
    "              metrics=['accuracy'])"
   ]
  },
  {
   "cell_type": "code",
   "execution_count": 29,
   "metadata": {},
   "outputs": [
    {
     "name": "stdout",
     "output_type": "stream",
     "text": [
      "Epoch 1/20\n",
      "\u001b[1m120/120\u001b[0m \u001b[32m━━━━━━━━━━━━━━━━━━━━\u001b[0m\u001b[37m\u001b[0m \u001b[1m3s\u001b[0m 4ms/step - accuracy: 0.7044 - loss: 0.6563 - val_accuracy: 0.9070 - val_loss: 0.4384\n",
      "Epoch 2/20\n",
      "\u001b[1m120/120\u001b[0m \u001b[32m━━━━━━━━━━━━━━━━━━━━\u001b[0m\u001b[37m\u001b[0m \u001b[1m0s\u001b[0m 3ms/step - accuracy: 0.8480 - loss: 0.4635 - val_accuracy: 0.9070 - val_loss: 0.2788\n",
      "Epoch 3/20\n",
      "\u001b[1m120/120\u001b[0m \u001b[32m━━━━━━━━━━━━━━━━━━━━\u001b[0m\u001b[37m\u001b[0m \u001b[1m0s\u001b[0m 3ms/step - accuracy: 0.8763 - loss: 0.3440 - val_accuracy: 0.9158 - val_loss: 0.2469\n",
      "Epoch 4/20\n",
      "\u001b[1m120/120\u001b[0m \u001b[32m━━━━━━━━━━━━━━━━━━━━\u001b[0m\u001b[37m\u001b[0m \u001b[1m0s\u001b[0m 3ms/step - accuracy: 0.8939 - loss: 0.2998 - val_accuracy: 0.9139 - val_loss: 0.2978\n",
      "Epoch 5/20\n",
      "\u001b[1m120/120\u001b[0m \u001b[32m━━━━━━━━━━━━━━━━━━━━\u001b[0m\u001b[37m\u001b[0m \u001b[1m0s\u001b[0m 3ms/step - accuracy: 0.8927 - loss: 0.2945 - val_accuracy: 0.9165 - val_loss: 0.2371\n",
      "Epoch 6/20\n",
      "\u001b[1m120/120\u001b[0m \u001b[32m━━━━━━━━━━━━━━━━━━━━\u001b[0m\u001b[37m\u001b[0m \u001b[1m0s\u001b[0m 3ms/step - accuracy: 0.8976 - loss: 0.2787 - val_accuracy: 0.9171 - val_loss: 0.2174\n",
      "Epoch 7/20\n",
      "\u001b[1m120/120\u001b[0m \u001b[32m━━━━━━━━━━━━━━━━━━━━\u001b[0m\u001b[37m\u001b[0m \u001b[1m0s\u001b[0m 3ms/step - accuracy: 0.8950 - loss: 0.2850 - val_accuracy: 0.9165 - val_loss: 0.2312\n",
      "Epoch 8/20\n",
      "\u001b[1m120/120\u001b[0m \u001b[32m━━━━━━━━━━━━━━━━━━━━\u001b[0m\u001b[37m\u001b[0m \u001b[1m0s\u001b[0m 3ms/step - accuracy: 0.9073 - loss: 0.2634 - val_accuracy: 0.9120 - val_loss: 0.1953\n",
      "Epoch 9/20\n",
      "\u001b[1m120/120\u001b[0m \u001b[32m━━━━━━━━━━━━━━━━━━━━\u001b[0m\u001b[37m\u001b[0m \u001b[1m0s\u001b[0m 3ms/step - accuracy: 0.9128 - loss: 0.2619 - val_accuracy: 0.9025 - val_loss: 0.2576\n",
      "Epoch 10/20\n",
      "\u001b[1m120/120\u001b[0m \u001b[32m━━━━━━━━━━━━━━━━━━━━\u001b[0m\u001b[37m\u001b[0m \u001b[1m0s\u001b[0m 3ms/step - accuracy: 0.9185 - loss: 0.2520 - val_accuracy: 0.9354 - val_loss: 0.2080\n",
      "Epoch 11/20\n",
      "\u001b[1m120/120\u001b[0m \u001b[32m━━━━━━━━━━━━━━━━━━━━\u001b[0m\u001b[37m\u001b[0m \u001b[1m0s\u001b[0m 4ms/step - accuracy: 0.9228 - loss: 0.2438 - val_accuracy: 0.9278 - val_loss: 0.2006\n",
      "Epoch 12/20\n",
      "\u001b[1m120/120\u001b[0m \u001b[32m━━━━━━━━━━━━━━━━━━━━\u001b[0m\u001b[37m\u001b[0m \u001b[1m0s\u001b[0m 3ms/step - accuracy: 0.9196 - loss: 0.2290 - val_accuracy: 0.9399 - val_loss: 0.1736\n",
      "Epoch 13/20\n",
      "\u001b[1m120/120\u001b[0m \u001b[32m━━━━━━━━━━━━━━━━━━━━\u001b[0m\u001b[37m\u001b[0m \u001b[1m0s\u001b[0m 3ms/step - accuracy: 0.9142 - loss: 0.2446 - val_accuracy: 0.9418 - val_loss: 0.1731\n",
      "Epoch 14/20\n",
      "\u001b[1m120/120\u001b[0m \u001b[32m━━━━━━━━━━━━━━━━━━━━\u001b[0m\u001b[37m\u001b[0m \u001b[1m0s\u001b[0m 3ms/step - accuracy: 0.9312 - loss: 0.2191 - val_accuracy: 0.9487 - val_loss: 0.1596\n",
      "Epoch 15/20\n",
      "\u001b[1m120/120\u001b[0m \u001b[32m━━━━━━━━━━━━━━━━━━━━\u001b[0m\u001b[37m\u001b[0m \u001b[1m0s\u001b[0m 3ms/step - accuracy: 0.9272 - loss: 0.2123 - val_accuracy: 0.9443 - val_loss: 0.1822\n",
      "Epoch 16/20\n",
      "\u001b[1m120/120\u001b[0m \u001b[32m━━━━━━━━━━━━━━━━━━━━\u001b[0m\u001b[37m\u001b[0m \u001b[1m0s\u001b[0m 3ms/step - accuracy: 0.9240 - loss: 0.2362 - val_accuracy: 0.9582 - val_loss: 0.1586\n",
      "Epoch 17/20\n",
      "\u001b[1m120/120\u001b[0m \u001b[32m━━━━━━━━━━━━━━━━━━━━\u001b[0m\u001b[37m\u001b[0m \u001b[1m1s\u001b[0m 3ms/step - accuracy: 0.9252 - loss: 0.2215 - val_accuracy: 0.9456 - val_loss: 0.1667\n",
      "Epoch 18/20\n",
      "\u001b[1m120/120\u001b[0m \u001b[32m━━━━━━━━━━━━━━━━━━━━\u001b[0m\u001b[37m\u001b[0m \u001b[1m0s\u001b[0m 3ms/step - accuracy: 0.9262 - loss: 0.2252 - val_accuracy: 0.9468 - val_loss: 0.1801\n",
      "Epoch 19/20\n",
      "\u001b[1m120/120\u001b[0m \u001b[32m━━━━━━━━━━━━━━━━━━━━\u001b[0m\u001b[37m\u001b[0m \u001b[1m0s\u001b[0m 3ms/step - accuracy: 0.9289 - loss: 0.2192 - val_accuracy: 0.9418 - val_loss: 0.1682\n",
      "Epoch 20/20\n",
      "\u001b[1m120/120\u001b[0m \u001b[32m━━━━━━━━━━━━━━━━━━━━\u001b[0m\u001b[37m\u001b[0m \u001b[1m1s\u001b[0m 3ms/step - accuracy: 0.9295 - loss: 0.2192 - val_accuracy: 0.9551 - val_loss: 0.1528\n"
     ]
    }
   ],
   "source": [
    "history = r_model.fit(x_train_v1,y_train_v1,batch_size = 32,epochs = 20,validation_data=[X_test, y_test])"
   ]
  },
  {
   "cell_type": "code",
   "execution_count": 30,
   "metadata": {},
   "outputs": [
    {
     "data": {
      "image/png": "[encoded data removed]",
      "text/plain": [
       "<Figure size 640x480 with 1 Axes>"
      ]
     },
     "metadata": {},
     "output_type": "display_data"
    }
   ],
   "source": [
    "import keras\n",
    "from matplotlib import pyplot as plt\n",
    "loss = history.history['loss']\n",
    "val_loss = history.history['val_loss']\n",
    "epochs = range(1, len(loss) + 1)\n",
    "plt.plot(epochs, loss, 'g', label = 'Training Loss')\n",
    "plt.plot(epochs, val_loss, 'r', label = 'Validation Loss')\n",
    "plt.title('Loss v/s No. of epochs')\n",
    "plt.xlabel('Number of Epochs')\n",
    "plt.ylabel('Loss')\n",
    "plt.legend()\n",
    "plt.show()"
   ]
  },
  {
   "cell_type": "markdown",
   "metadata": {},
   "source": [
    "***Evaluation on test data***"
   ]
  },
  {
   "cell_type": "code",
   "execution_count": 31,
   "metadata": {},
   "outputs": [
    {
     "name": "stdout",
     "output_type": "stream",
     "text": [
      "\u001b[1m50/50\u001b[0m \u001b[32m━━━━━━━━━━━━━━━━━━━━\u001b[0m\u001b[37m\u001b[0m \u001b[1m0s\u001b[0m 2ms/step - accuracy: 0.9543 - loss: 0.1576\n"
     ]
    }
   ],
   "source": [
    "loss,accuracy = r_model.evaluate(X_test,y_test)"
   ]
  },
  {
   "cell_type": "code",
   "execution_count": 32,
   "metadata": {},
   "outputs": [
    {
     "name": "stdout",
     "output_type": "stream",
     "text": [
      "\u001b[1m50/50\u001b[0m \u001b[32m━━━━━━━━━━━━━━━━━━━━\u001b[0m\u001b[37m\u001b[0m \u001b[1m0s\u001b[0m 3ms/step\n",
      "Accuracy: 0.9550632911392405\n",
      "Precision: 0.9613309352517986\n",
      "Recall: 0.9744758432087511\n"
     ]
    }
   ],
   "source": [
    "from sklearn.metrics import accuracy_score, precision_score, recall_score\n",
    "\n",
    "# Predict probabilities\n",
    "prob_predictions = r_model.predict(X_test)\n",
    "\n",
    "# Convert probabilities to binary class labels\n",
    "binary_predictions = (prob_predictions >= 0.5).astype(int)\n",
    "\n",
    "# Calculate custom metrics\n",
    "accuracy = accuracy_score(y_test, binary_predictions)\n",
    "precision = precision_score(y_test, binary_predictions)\n",
    "recall = recall_score(y_test, binary_predictions)\n",
    "\n",
    "print(f\"Accuracy: {accuracy}\")\n",
    "print(f\"Precision: {precision}\")\n",
    "print(f\"Recall: {recall}\")\n"
   ]
  },
  {
   "cell_type": "markdown",
   "metadata": {},
   "source": [
    "***Confusion matrix***"
   ]
  },
  {
   "cell_type": "code",
   "execution_count": 33,
   "metadata": {},
   "outputs": [
    {
     "data": {
      "image/png": "[encoded data removed]",
      "text/plain": [
       "<Figure size 640x480 with 2 Axes>"
      ]
     },
     "metadata": {},
     "output_type": "display_data"
    }
   ],
   "source": [
    "import matplotlib.pyplot as plt\n",
    "from sklearn.metrics import ConfusionMatrixDisplay\n",
    "\n",
    "cm_display = ConfusionMatrixDisplay.from_predictions(\n",
    "   y_test,binary_predictions)\n",
    "cm_display.ax_.set_title('Confusion Matrix')\n",
    "plt.show()"
   ]
  },
  {
   "cell_type": "code",
   "execution_count": 34,
   "metadata": {},
   "outputs": [
    {
     "name": "stdout",
     "output_type": "stream",
     "text": [
      "              precision    recall  f1-score      support\n",
      "0              0.940171  0.910973  0.925342   483.000000\n",
      "1              0.961331  0.974476  0.967859  1097.000000\n",
      "accuracy       0.955063  0.955063  0.955063     0.955063\n",
      "macro avg      0.950751  0.942724  0.946600  1580.000000\n",
      "weighted avg   0.954862  0.955063  0.954861  1580.000000\n"
     ]
    }
   ],
   "source": [
    "from sklearn.metrics import classification_report\n",
    "# Generate classification report\n",
    "report_dict = classification_report(y_test, binary_predictions, output_dict=True)\n",
    "\n",
    "# Convert the dictionary to a DataFrame for better visualization\n",
    "report_df = pd.DataFrame(report_dict).transpose()\n",
    "\n",
    "# Display the classification report DataFrame\n",
    "print(report_df)"
   ]
  },
  {
   "cell_type": "markdown",
   "metadata": {},
   "source": [
    "***Save model***"
   ]
  },
  {
   "cell_type": "code",
   "execution_count": 35,
   "metadata": {},
   "outputs": [
    {
     "name": "stderr",
     "output_type": "stream",
     "text": [
      "WARNING:absl:You are saving your model as an HDF5 file via `model.save()` or `keras.saving.save_model(model)`. This file format is considered legacy. We recommend using instead the native Keras format, e.g. `model.save('my_model.keras')` or `keras.saving.save_model(model, 'my_model.keras')`. \n"
     ]
    }
   ],
   "source": [
    "r_model.save(\"1_save_resampling_model.h5\")"
   ]
  },
  {
   "cell_type": "markdown",
   "metadata": {},
   "source": [
    "# Test on updated model"
   ]
  },
  {
   "cell_type": "code",
   "execution_count": 45,
   "metadata": {},
   "outputs": [],
   "source": [
    "import numpy as np\n",
    "\n",
    "weights1 = np.load(\"D:\\\\Federated_Learning\\\\round-1-weights.npz\")  # Replace \"data.npz\" with your filename\n",
    "weights2 = np.load(\"D:\\\\Federated_Learning\\\\round-2-weights.npz\")  # Replace \"data.npz\" with your filename\n",
    "weights3 = np.load(\"D:\\\\Federated_Learning\\\\round-3-weights.npz\")  # Replace \"data.npz\" with your filename "
   ]
  },
  {
   "cell_type": "code",
   "execution_count": 46,
   "metadata": {},
   "outputs": [],
   "source": [
    "y_files = df_test[\"Malware\"]\n",
    "x_files = df_test.drop(columns = [\"Malware\"])"
   ]
  },
  {
   "cell_type": "code",
   "execution_count": 47,
   "metadata": {},
   "outputs": [],
   "source": [
    "weights_array = [weights1,weights2,weights3]"
   ]
  },
  {
   "cell_type": "code",
   "execution_count": 48,
   "metadata": {},
   "outputs": [
    {
     "name": "stderr",
     "output_type": "stream",
     "text": [
      "d:\\Federated_Learning\\venv\\Lib\\site-packages\\keras\\src\\layers\\core\\dense.py:88: UserWarning: Do not pass an `input_shape`/`input_dim` argument to a layer. When using Sequential models, prefer using an `Input(shape)` object as the first layer in the model instead.\n",
      "  super().__init__(activity_regularizer=activity_regularizer, **kwargs)\n"
     ]
    }
   ],
   "source": [
    "# initialize model architect\n",
    "model1 = Sequential()\n",
    "model1.add(Dense(24, input_shape=(24,))) # Increase neurons\n",
    "model1.add(Dense(16, activation='relu'))  # Add more layers\n",
    "model1.add(Dropout(0.3))\n",
    "model1.add(Dense(16, activation='relu'))  # Add more layers\n",
    "model1.add(Dense(1, activation='sigmoid'))\n",
    "\n",
    "optimizer1 = Adam(learning_rate=0.0015)  # Set learning rate sdirectly\n",
    "model1.compile(loss='binary_crossentropy',\n",
    "              optimizer=optimizer,\n",
    "              metrics=['accuracy'])"
   ]
  },
  {
   "cell_type": "code",
   "execution_count": 49,
   "metadata": {},
   "outputs": [],
   "source": [
    "# initialize model architect\n",
    "model2 = Sequential()\n",
    "model2.add(Dense(24, input_shape=(24,))) # Increase neurons\n",
    "model2.add(Dense(16, activation='relu'))  # Add more layers\n",
    "model2.add(Dropout(0.3))\n",
    "model2.add(Dense(16, activation='relu'))  # Add more layers\n",
    "model2.add(Dense(1, activation='sigmoid'))\n",
    "\n",
    "optimizer2 = Adam(learning_rate=0.0015)  # Set learning rate sdirectly\n",
    "model2.compile(loss='binary_crossentropy',\n",
    "              optimizer=optimizer,\n",
    "              metrics=['accuracy'])"
   ]
  },
  {
   "cell_type": "code",
   "execution_count": 50,
   "metadata": {},
   "outputs": [],
   "source": [
    "# initialize model architect\n",
    "model3 = Sequential()\n",
    "model3.add(Dense(24, input_shape=(24,))) # Increase neurons\n",
    "model3.add(Dense(16, activation='relu'))  # Add more layers\n",
    "model3.add(Dropout(0.3))\n",
    "model3.add(Dense(16, activation='relu'))  # Add more layers\n",
    "model3.add(Dense(1, activation='sigmoid'))\n",
    "\n",
    "optimizer3 = Adam(learning_rate=0.0015)  # Set learning rate sdirectly\n",
    "model3.compile(loss='binary_crossentropy',\n",
    "              optimizer=optimizer,\n",
    "              metrics=['accuracy'])"
   ]
  },
  {
   "cell_type": "code",
   "execution_count": 51,
   "metadata": {},
   "outputs": [],
   "source": [
    "model_array = [model1,model2,model3]"
   ]
  },
  {
   "cell_type": "code",
   "execution_count": 52,
   "metadata": {},
   "outputs": [],
   "source": [
    "def set_weight(index:int):\n",
    "    for i, layer in enumerate(model_array[index].layers):\n",
    "        if layer.name in weights_array[index]:\n",
    "            weights_to_set = weights_array[index][layer.name]  # Assuming weights mapped to layer names\n",
    "            layer.set_weights(weights_to_set) "
   ]
  },
  {
   "cell_type": "code",
   "execution_count": 53,
   "metadata": {},
   "outputs": [
    {
     "name": "stdout",
     "output_type": "stream",
     "text": [
      "Accuracy of using updated parameter round 1: 0.6812658309936523\n",
      "Accuracy of using updated parameter round 2: 0.5079746842384338\n",
      "Accuracy of using updated parameter round 3: 0.6664556860923767\n"
     ]
    }
   ],
   "source": [
    "for i in range(0,3):\n",
    "    set_weight(i)\n",
    "    lossi, accuracyi = model_array[i].evaluate(x_files, y_files, verbose=0)\n",
    "    print(f\"Accuracy of using updated parameter round {i+1}: {accuracyi}\")"
   ]
  }
 ],
 "metadata": {
  "kernelspec": {
   "display_name": "venv",
   "language": "python",
   "name": "python3"
  },
  "language_info": {
   "codemirror_mode": {
    "name": "ipython",
    "version": 3
   },
   "file_extension": ".py",
   "mimetype": "text/x-python",
   "name": "python",
   "nbconvert_exporter": "python",
   "pygments_lexer": "ipython3",
   "version": "3.11.5"
  }
 },
 "nbformat": 4,
 "nbformat_minor": 2
}
